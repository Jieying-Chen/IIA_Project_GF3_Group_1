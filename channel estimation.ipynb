{
 "cells": [
  {
   "cell_type": "code",
   "execution_count": 1,
   "metadata": {},
   "outputs": [],
   "source": [
    "import sounddevice as sd\n",
    "import soundfile as sf\n",
    "import matplotlib.pyplot as plt\n",
    "import numpy as np\n",
    "import scipy.signal\n",
    "\n",
    "from scipy.io.wavfile import write"
   ]
  },
  {
   "cell_type": "code",
   "execution_count": null,
   "metadata": {},
   "outputs": [],
   "source": [
    "def buffer(x, wlen, p):\n",
    "    '''\n",
    "    Parameters\n",
    "    ----------\n",
    "    x: ndarray\n",
    "        Signal array\n",
    "    wlen: int\n",
    "        Window length\n",
    "    p: int\n",
    "        Number of samples to overlap\n",
    "\n",
    "    Returns\n",
    "    -------\n",
    "    (n,wlen) ndarray\n",
    "        Buffer array \n",
    "    n int\n",
    "        Number of windows\n",
    "    '''\n",
    "    #n = x.size // wlen + 1 #number of windows\n",
    "    n = 0 #number of windows\n",
    "    buffer = []\n",
    "    i = 0\n",
    "    while i + wlen <= x.size:\n",
    "        buffer.append(x[i:min(i + wlen, x.size)])\n",
    "        i += (wlen - p)\n",
    "        n += 1\n",
    "        \n",
    "    return np.array(buffer,dtype=object), n\n",
    "\n",
    "#print(buffer(np.arange(10),3,2))"
   ]
  },
  {
   "cell_type": "code",
   "execution_count": 103,
   "metadata": {},
   "outputs": [],
   "source": [
    "#with a known input signal\n",
    "def channelest1(x, y, xwin,ywin,overlap):\n",
    "    hsize = ywin - xwin\n",
    "    x_w, wnumx = buffer(x,xwin,overlap)\n",
    "    y_w, wnumy = buffer(y,ywin,overlap + hsize)\n",
    "    \n",
    "    if wnumx != wnumy:\n",
    "        print('mismatch')\n",
    "        return\n",
    "    \n",
    "    H = np.zeros(ywin, dtype=complex)\n",
    "    for i in range(wnumx):\n",
    "        currentx = x_w[i]\n",
    "        currenty = y_w[i]\n",
    "        extendx = np.zeros(currenty.size)\n",
    "        extendx[:currentx.size] = currentx \n",
    "        X = np.fft.fft(extendx)\n",
    "        Y = np.fft.fft(currenty)\n",
    "\n",
    "        H += np.divide(Y,X)\n",
    "        \n",
    "    H = H / wnumx\n",
    "    h_est = np.fft.ifft(H)[:hsize]\n",
    "\n",
    "    return np.real(h_est)\n",
    "\n"
   ]
  },
  {
   "cell_type": "code",
   "execution_count": 154,
   "metadata": {},
   "outputs": [],
   "source": [
    "#with input noise\n",
    "def channelest2(x, y, xwin,ywin,overlap,sigma):\n",
    "    hsize = ywin - xwin\n",
    "    x_w, wnumx = buffer(x,xwin,overlap)\n",
    "    y_w, wnumy = buffer(y,ywin,overlap + hsize)\n",
    "\n",
    "    if wnumx != wnumy:\n",
    "        print('mismatch')\n",
    "        return\n",
    "    \n",
    "    for i in range(wnumx):\n",
    "        currentx = x_w[i]\n",
    "        currenty = y_w[i]\n",
    "        \n",
    "        extendx = np.zeros(currenty.size)\n",
    "        extendx[:currentx.size] = currentx \n",
    "\n",
    "        _, Sxx = scipy.signal.csd(extendx,extendx)\n",
    "        _, Sxy = scipy.signal.csd(extendx,currenty)\n",
    "        if i == 0:\n",
    "            H = Sxy / Sxx\n",
    "        else:\n",
    "            H += Sxy / Sxx\n",
    "\n",
    "    H = H / wnumx\n",
    "    h_est = np.fft.ifft(H)[:hsize]\n",
    "    h_est = np.real(h_est)\n",
    "    return h_est"
   ]
  },
  {
   "cell_type": "code",
   "execution_count": 163,
   "metadata": {},
   "outputs": [],
   "source": [
    "#with chirp\n",
    "def channelest3(x, y, fs, hsize):\n",
    "    \n",
    "    w = np.convolve(y,x)\n",
    "    h_est = w[fs-1:fs-1+hsize]/240 #hard code!!\n",
    "\n",
    "    return h_est\n",
    "        \n"
   ]
  },
  {
   "cell_type": "code",
   "execution_count": 41,
   "metadata": {},
   "outputs": [],
   "source": [
    "#testing\n",
    "h_test = np.random.randn(10)\n"
   ]
  },
  {
   "cell_type": "code",
   "execution_count": 121,
   "metadata": {},
   "outputs": [
    {
     "name": "stdout",
     "output_type": "stream",
     "text": [
      "[ 0.65590724 -1.49163429  0.37696037  0.51752404 -0.21346702  0.93670073\n",
      "  1.9392701  -1.05138389  0.41004389 -0.80741243]\n",
      "[ 0.95795982 -1.3114297   0.63948747  0.7522445  -0.04157234  1.14499136\n",
      "  2.19137771 -0.80953444  0.58065557 -0.67963508]\n"
     ]
    }
   ],
   "source": [
    "#estimation 1\n",
    "x = np.random.randn(10000)\n",
    "y = np.convolve(h_test,x) + np.random.randn(h_test.size + x.size - 1)\n",
    "xwin = 5\n",
    "hsize = 10\n",
    "result = channelest1(x,y,xwin,xwin + hsize,3)\n",
    "\n",
    "print(h_test)\n",
    "print(result)"
   ]
  },
  {
   "cell_type": "code",
   "execution_count": 161,
   "metadata": {},
   "outputs": [
    {
     "name": "stdout",
     "output_type": "stream",
     "text": [
      "[ 0.65590724 -1.49163429  0.37696037  0.51752404 -0.21346702  0.93670073\n",
      "  1.9392701  -1.05138389  0.41004389 -0.80741243]\n",
      "[ 0.68251071  0.32472216 -0.23761746  2.02069825  0.26734261 -0.20362454\n",
      " -0.0626896  -0.01857291  0.00251138  0.00338228]\n"
     ]
    }
   ],
   "source": [
    "#estimation 2\n",
    "x = np.random.randn(10000)\n",
    "y = np.convolve(h_test,x) + np.random.randn(h_test.size + x.size - 1)\n",
    "xwin = 200\n",
    "hsize = 10\n",
    "result2 = channelest2(x, y, xwin,xwin + hsize,3,1)\n",
    "\n",
    "print(h_test)\n",
    "print(result2)"
   ]
  },
  {
   "cell_type": "code",
   "execution_count": 165,
   "metadata": {},
   "outputs": [
    {
     "name": "stdout",
     "output_type": "stream",
     "text": [
      "[ 0.65590724 -1.49163429  0.37696037  0.51752404 -0.21346702  0.93670073\n",
      "  1.9392701  -1.05138389  0.41004389 -0.80741243]\n",
      "[ 0.40418158 -1.38297943  0.15793921  1.08633598 -0.90845713  1.5352095\n",
      "  1.81845739 -0.73622367 -0.17385931 -0.50177688]\n"
     ]
    }
   ],
   "source": [
    "#estimation 3\n",
    "duration = 1\n",
    "fs = 48000 #sample freq\n",
    "sample_times = np.linspace(0, duration, fs * duration)\n",
    "x = 0.1 * scipy.signal.chirp(sample_times, 20, duration, 20000) \n",
    "y = np.convolve(h_test,x) + np.random.randn(h_test.size + x.size - 1)\n",
    "hsize = 10\n",
    "\n",
    "xinv = np.flip(x)\n",
    "\n",
    "result3 = channelest3(xinv,y,fs,hsize)\n",
    "\n",
    "print(h_test)\n",
    "print(result3)\n",
    "\n"
   ]
  }
 ],
 "metadata": {
  "interpreter": {
   "hash": "e4ba2c2835bac95b056450fe4ad657800f897c097f78b31e6de995f2a103de5f"
  },
  "kernelspec": {
   "display_name": "Python 3.8.3 ('base')",
   "language": "python",
   "name": "python3"
  },
  "language_info": {
   "codemirror_mode": {
    "name": "ipython",
    "version": 3
   },
   "file_extension": ".py",
   "mimetype": "text/x-python",
   "name": "python",
   "nbconvert_exporter": "python",
   "pygments_lexer": "ipython3",
   "version": "3.8.3"
  },
  "orig_nbformat": 4
 },
 "nbformat": 4,
 "nbformat_minor": 2
}
