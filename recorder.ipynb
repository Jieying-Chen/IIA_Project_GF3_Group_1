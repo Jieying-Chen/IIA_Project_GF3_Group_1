{
 "cells": [
  {
   "cell_type": "code",
   "execution_count": 1,
   "metadata": {},
   "outputs": [],
   "source": [
    "from utils import audio\n",
    "from datetime import datetime\n",
    "\n",
    "time = datetime.now().strftime(\"%H_%M_%S\")\n",
    "fs = 48000\n",
    "record_duration = 600\n",
    "\n",
    "prefix = \"self_test\"\n",
    "\n",
    "filename = \"{}_{}\".format(prefix, time)\n",
    "\n",
    "received_signal = audio.record(record_duration, fs)\n",
    "\n",
    "#audio.signal_to_wav(received_signal,fs,filename,\"audio_files\")\n",
    "\n",
    "#print(filename)"
   ]
  }
 ],
 "metadata": {
  "interpreter": {
   "hash": "e4ba2c2835bac95b056450fe4ad657800f897c097f78b31e6de995f2a103de5f"
  },
  "kernelspec": {
   "display_name": "Python 3.8.3 ('base')",
   "language": "python",
   "name": "python3"
  },
  "language_info": {
   "codemirror_mode": {
    "name": "ipython",
    "version": 3
   },
   "file_extension": ".py",
   "mimetype": "text/x-python",
   "name": "python",
   "nbconvert_exporter": "python",
   "pygments_lexer": "ipython3",
   "version": "3.8.3"
  },
  "orig_nbformat": 4
 },
 "nbformat": 4,
 "nbformat_minor": 2
}
