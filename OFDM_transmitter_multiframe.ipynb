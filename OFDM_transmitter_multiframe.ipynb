{
 "cells": [
  {
   "cell_type": "code",
   "execution_count": null,
   "metadata": {},
   "outputs": [],
   "source": [
    "import numpy as np\n",
    "import matplotlib.pyplot as plt\n",
    "import os\n",
    "import scipy.signal\n",
    "from utils import encode, ofdm, channels, audio, decode, preamble, file_preparation\n",
    "import sounddevice as sd\n",
    "cwd = os.getcwd()"
   ]
  },
  {
   "cell_type": "code",
   "execution_count": null,
   "metadata": {},
   "outputs": [],
   "source": [
    "DFT_LENGTH = 4096\n",
    "CP_LENGTH = 512\n",
    "OFDM_LENGTH = 4608\n",
    "silence_duration = 1\n",
    "chirp_duration = 1\n",
    "fs = 48000\n",
    "\n",
    "low_freq = 1000\n",
    "high_freq = 10000\n",
    "double_chirp = False\n",
    "bits_per_symbol = 2\n",
    "symbol_per_frame = 128\n",
    "frame_count = 1.75"
   ]
  },
  {
   "cell_type": "code",
   "execution_count": null,
   "metadata": {},
   "outputs": [],
   "source": [
    "new = False"
   ]
  },
  {
   "cell_type": "code",
   "execution_count": null,
   "metadata": {},
   "outputs": [],
   "source": [
    "# Generate a bit array as data to transmit\n",
    "\n",
    "\n",
    "spb = ofdm.subcarriers_per_block(fs,DFT_LENGTH,low_freq,high_freq)\n",
    "\n",
    "if new:\n",
    "    np.random.seed(8)\n",
    "    info = np.random.randint(2, size=int(frame_count * 2 * spb * symbol_per_frame))\n",
    "    np.savetxt('info', info, fmt='%i')\n",
    "else:\n",
    "    info = file_preparation.file_encode(filesize=39955,filename='Louis.txt', txt_name='Louis_front.txt')\n",
    "    np.savetxt('info', info, fmt='%i')\n",
    "    info_list = list(map(str,list(info)))\n",
    "    info_string = ''.join(info_list)\n",
    "    f = open(\"input.txt\", mode='w')\n",
    "    f.write(info_string)\n",
    "    f.close()\n",
    "\n",
    "# Load a saved bit array and save its encoded version\n",
    "info = np.loadtxt('info', dtype=np.int32)\n",
    "# encoded = encode.ldpc_encode(info)\n",
    "encoded = info\n",
    "np.savetxt('encoded', encoded, fmt='%i')"
   ]
  },
  {
   "cell_type": "code",
   "execution_count": null,
   "metadata": {},
   "outputs": [],
   "source": [
    "symbols = encode.qpsk_encode(encoded)\n",
    "\n",
    "# shifted = ofdm.subcarrier_shift_gaussian(symbols, DFT_LENGTH, fs, low_freq, high_freq, 0.01, bits_per_symbol, constellation='qpsk')\n",
    "shifted = ofdm.subcarrier_shift_ofdm(symbols, DFT_LENGTH, fs, low_freq, high_freq)\n",
    "ofdm_data = ofdm.symbols_to_ofdm(shifted, DFT_LENGTH, CP_LENGTH)"
   ]
  },
  {
   "cell_type": "code",
   "execution_count": null,
   "metadata": {},
   "outputs": [],
   "source": [
    "#generate known ofdm symbols\n",
    "repeat_time = 4\n",
    "known_ofdm_data = preamble.load_known_ofdm(CP_LENGTH,repeat_time)\n",
    "\n",
    "scale = max(np.real(known_ofdm_data)) / max(np.real(ofdm_data))\n",
    "\n",
    "reshape_ofdm = np.reshape(ofdm_data*scale,(-1,OFDM_LENGTH))\n",
    "\n",
    "#chirp between frame\n",
    "chirp = preamble.generate_chirp(chirp_duration, fs, low=low_freq, high=high_freq, silence_duration=0, double=double_chirp)\n",
    "peak = max(np.real(known_ofdm_data)) / max(np.real(chirp))\n",
    "\n",
    "chirp_inter = peak * chirp\n",
    "\n",
    "i=0\n",
    "frame_audio = np.array([])\n",
    "while (i+128) < reshape_ofdm.shape[0]:\n",
    "    ofdm_block = reshape_ofdm[i:i+128,:].flatten()\n",
    "    frame = preamble.frame_assemble(chirp_inter, known_ofdm_data, ofdm_block)\n",
    "    frame_audio = np.append(frame_audio,frame)\n",
    "    i += 128\n",
    "\n",
    "ofdm_block = reshape_ofdm[i:,:].flatten()\n",
    "frame = preamble.frame_assemble(chirp_inter, known_ofdm_data, ofdm_block)\n",
    "frame_audio = np.append(frame_audio,frame)\n",
    "\n",
    "start_audio = peak * preamble.transmission_start(fs,low_freq,high_freq,silence_duration)\n",
    "end_audio = peak * preamble.transmission_end(fs,low_freq,high_freq,silence_duration)\n",
    "\n",
    "output_audio = np.concatenate((start_audio,frame_audio,end_audio))\n",
    "plt.plot(output_audio)"
   ]
  },
  {
   "cell_type": "code",
   "execution_count": null,
   "metadata": {},
   "outputs": [],
   "source": [
    "#save and play\n",
    "audio.signal_to_wav(np.real(output_audio), fs, 'new_tester_1.75_frames', 'audio_files')\n",
    "plt.plot(np.real(output_audio))\n",
    "plt.show()"
   ]
  },
  {
   "cell_type": "code",
   "execution_count": null,
   "metadata": {},
   "outputs": [],
   "source": [
    "sd.play(output_audio,fs,blocking=True)"
   ]
  }
 ],
 "metadata": {
  "interpreter": {
   "hash": "e4ba2c2835bac95b056450fe4ad657800f897c097f78b31e6de995f2a103de5f"
  },
  "kernelspec": {
   "display_name": "Python 3.8.3 ('base')",
   "language": "python",
   "name": "python3"
  },
  "language_info": {
   "codemirror_mode": {
    "name": "ipython",
    "version": 3
   },
   "file_extension": ".py",
   "mimetype": "text/x-python",
   "name": "python",
   "nbconvert_exporter": "python",
   "pygments_lexer": "ipython3",
   "version": "3.8.3"
  },
  "orig_nbformat": 4
 },
 "nbformat": 4,
 "nbformat_minor": 2
}
