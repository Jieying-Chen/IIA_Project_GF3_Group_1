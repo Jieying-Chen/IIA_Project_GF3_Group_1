{
 "cells": [
  {
   "cell_type": "code",
   "execution_count": 8,
   "metadata": {},
   "outputs": [],
   "source": [
    "import numpy as np\n",
    "import scipy\n",
    "import os\n",
    "\n",
    "cwd = os.getcwd()"
   ]
  },
  {
   "cell_type": "code",
   "execution_count": 9,
   "metadata": {},
   "outputs": [],
   "source": [
    "def QPSK(input): # Map an narray of complex numbers to corresponding binary bits pairs\n",
    "    imag = input.imag\n",
    "    digit1 = imag < 0\n",
    "    digit1 = digit1.astype(int)\n",
    "    real = input.real\n",
    "    digit2 = real < 0\n",
    "    digit2 = digit2.astype(int)\n",
    "    return np.array([str(digit1[i]) + str(digit2[i]) for i in range(len(digit1))])\n"
   ]
  },
  {
   "cell_type": "code",
   "execution_count": 10,
   "metadata": {},
   "outputs": [],
   "source": [
    "# Load the data\n",
    "file_number = 4\n",
    "\n",
    "data_dir = os.path.join(cwd, 'data')\n",
    "file_name = \"file{}.csv\".format(file_number)\n",
    "input_signal = np.loadtxt(open(os.path.join(data_dir, file_name), \"rb\"), delimiter=\",\")\n",
    "channel = np.loadtxt(open(os.path.join(data_dir, \"channel.csv\"), \"rb\"), delimiter=\",\")\n",
    "\n",
    "channel_len = channel.size\n",
    "block_len = 1024\n",
    "prefix_len = 32\n",
    "total_len = block_len + prefix_len"
   ]
  },
  {
   "cell_type": "code",
   "execution_count": 11,
   "metadata": {},
   "outputs": [],
   "source": [
    "channel_time = np.zeros(block_len)\n",
    "channel_time[:channel_len] = channel\n",
    "channel_fft = np.fft.fft(channel_time)\n",
    "\n",
    "data_length = input_signal.size\n",
    "\n",
    "result = np.array([])"
   ]
  },
  {
   "cell_type": "code",
   "execution_count": 12,
   "metadata": {},
   "outputs": [],
   "source": [
    "for i in range(data_length // total_len):\n",
    "    block_before_discard = input_signal[total_len * i : total_len * (i + 1)]\n",
    "    block = block_before_discard[prefix_len:]\n",
    "    fft_result = np.fft.fft(block)\n",
    "    output = np.divide(fft_result, channel_fft)\n",
    "\n",
    "    info_block = output[1:512]\n",
    "\n",
    "    result = np.append(result, info_block)\n",
    "\n",
    "mapped = QPSK(result)"
   ]
  },
  {
   "cell_type": "code",
   "execution_count": 13,
   "metadata": {},
   "outputs": [],
   "source": [
    "output_bitstring = \"\".join(mapped)\n",
    "output_dir = os.path.join(cwd, 'week1_output')\n",
    "raw_file_name = \"raw_output_{}.txt\".format(file_number)\n",
    "\n",
    "output = np.savetxt(os.path.join(output_dir, raw_file_name),np.array([output_bitstring]),fmt=\"%s\")"
   ]
  },
  {
   "cell_type": "code",
   "execution_count": 14,
   "metadata": {},
   "outputs": [
    {
     "name": "stdout",
     "output_type": "stream",
     "text": [
      "The header is \n",
      "files/4738210983.tiff 130932 \n"
     ]
    }
   ],
   "source": [
    "# Process the bitstring raw output\n",
    "import utils.binary_decode\n",
    "cropped = utils.binary_decode.crop_header(output_bitstring)\n",
    "bin_file_name = \"result_{}.bin\".format(file_number)\n",
    "utils.binary_decode.to_binary(cropped, os.path.join(output_dir, bin_file_name))\n"
   ]
  }
 ],
 "metadata": {
  "interpreter": {
   "hash": "55875027973689914eea40301fdc38c2c3064c7178c996a84e45d89c40dfa9a4"
  },
  "kernelspec": {
   "display_name": "Python 3.7.11 ('base')",
   "language": "python",
   "name": "python3"
  },
  "language_info": {
   "codemirror_mode": {
    "name": "ipython",
    "version": 3
   },
   "file_extension": ".py",
   "mimetype": "text/x-python",
   "name": "python",
   "nbconvert_exporter": "python",
   "pygments_lexer": "ipython3",
   "version": "3.7.11"
  },
  "orig_nbformat": 4
 },
 "nbformat": 4,
 "nbformat_minor": 2
}
