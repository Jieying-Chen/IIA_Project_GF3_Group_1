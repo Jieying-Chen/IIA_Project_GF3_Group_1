{
 "cells": [
  {
   "cell_type": "code",
   "execution_count": 8,
   "metadata": {},
   "outputs": [],
   "source": [
    "import numpy as np\n",
    "import scipy\n",
    "import os\n",
    "\n",
    "cwd = os.getcwd()"
   ]
  },
  {
   "cell_type": "code",
   "execution_count": 9,
   "metadata": {},
   "outputs": [],
   "source": [
    "def QPSK(input): # Map an narray of complex numbers to corresponding binary bits pairs\n",
    "    imag = input.imag\n",
    "    digit1 = imag < 0\n",
    "    digit1 = digit1.astype(int)\n",
    "    real = input.real\n",
    "    digit2 = real < 0\n",
    "    digit2 = digit2.astype(int)\n",
    "    return np.array([str(digit1[i]) + str(digit2[i]) for i in range(len(digit1))])\n"
   ]
  },
  {
   "cell_type": "code",
   "execution_count": 18,
   "metadata": {},
   "outputs": [],
   "source": [
    "# Load the data\n",
    "file_number = 4\n",
    "\n",
    "data_dir = os.path.join(cwd, 'data')\n",
    "file_name = \"file{}.csv\".format(file_number)\n",
    "input_signal = np.loadtxt(open(os.path.join(data_dir, file_name), \"rb\"), delimiter=\",\")\n",
    "channel = np.loadtxt(open(os.path.join(data_dir, \"channel.csv\"), \"rb\"), delimiter=\",\")\n",
    "\n",
    "channel_len = channel.size\n",
    "block_len = 1024\n",
    "prefix_len = 32\n",
    "total_len = block_len + prefix_len"
   ]
  },
  {
   "cell_type": "code",
   "execution_count": 19,
   "metadata": {},
   "outputs": [],
   "source": [
    "channel_time = np.zeros(block_len)\n",
    "channel_time[:channel_len] = channel\n",
    "channel_fft = np.fft.fft(channel_time)\n",
    "\n",
    "data_length = input_signal.size\n",
    "\n",
    "result = np.array([])"
   ]
  },
  {
   "cell_type": "code",
   "execution_count": 20,
   "metadata": {},
   "outputs": [],
   "source": [
    "for i in range(data_length // total_len):\n",
    "    block_before_discard = input_signal[total_len * i : total_len * (i + 1)]\n",
    "    block = block_before_discard[prefix_len:]\n",
    "    fft_result = np.fft.fft(block)\n",
    "    output = np.divide(fft_result, channel_fft)\n",
    "\n",
    "    info_block = output[1:512]\n",
    "\n",
    "    result = np.append(result, info_block)\n",
    "\n",
    "mapped = QPSK(result)"
   ]
  },
  {
   "cell_type": "code",
   "execution_count": 23,
   "metadata": {},
   "outputs": [],
   "source": [
    "output = \"\".join(mapped)\n",
    "output_dir = os.path.join(cwd, 'week1_output')\n",
    "output_file_name = \"raw_output_{}.txt\".format(file_number)\n",
    "\n",
    "output = np.savetxt(os.path.join(output_dir, output_file_name),np.array([output]),fmt=\"%s\")"
   ]
  },
  {
   "cell_type": "code",
   "execution_count": 8,
   "metadata": {},
   "outputs": [
    {
     "data": {
      "text/plain": [
       "\"\\nfrom bitarray import bitarray\\n\\nfile = open('output{}_raw.txt'.format(file_number),'r')\\nstr = file.read()\\n\\n\\na = bitarray(str)\\nwith open('result{}.bin'.format(file_number), 'wb') as f:\\n    a.tofile(f)\\n\""
      ]
     },
     "execution_count": 8,
     "metadata": {},
     "output_type": "execute_result"
    }
   ],
   "source": [
    "'''\n",
    "from bitarray import bitarray\n",
    "\n",
    "file = open('output{}_raw.txt'.format(file_number),'r')\n",
    "str = file.read()\n",
    "\n",
    "\n",
    "a = bitarray(str)\n",
    "with open('result{}.bin'.format(file_number), 'wb') as f:\n",
    "    a.tofile(f)\n",
    "'''"
   ]
  }
 ],
 "metadata": {
  "interpreter": {
   "hash": "55875027973689914eea40301fdc38c2c3064c7178c996a84e45d89c40dfa9a4"
  },
  "kernelspec": {
   "display_name": "Python 3.7.11 ('base')",
   "language": "python",
   "name": "python3"
  },
  "language_info": {
   "codemirror_mode": {
    "name": "ipython",
    "version": 3
   },
   "file_extension": ".py",
   "mimetype": "text/x-python",
   "name": "python",
   "nbconvert_exporter": "python",
   "pygments_lexer": "ipython3",
   "version": "3.7.11"
  },
  "orig_nbformat": 4
 },
 "nbformat": 4,
 "nbformat_minor": 2
}
