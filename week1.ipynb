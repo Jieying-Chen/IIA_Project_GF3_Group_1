{
 "cells": [
  {
   "cell_type": "code",
   "execution_count": 32,
   "metadata": {},
   "outputs": [],
   "source": [
    "import numpy as np\n",
    "import scipy "
   ]
  },
  {
   "cell_type": "code",
   "execution_count": 33,
   "metadata": {},
   "outputs": [],
   "source": [
    "input_signal = np.loadtxt(open(\"file2.csv\", \"rb\"), delimiter=\",\")\n",
    "channel = np.loadtxt(open(\"channel.csv\", \"rb\"), delimiter=\",\")\n",
    "\n",
    "channel_len = channel.size\n",
    "block_len = 1024\n",
    "prefix_len = 32\n",
    "all_len = block_len + prefix_len"
   ]
  },
  {
   "cell_type": "code",
   "execution_count": 34,
   "metadata": {},
   "outputs": [
    {
     "name": "stdout",
     "output_type": "stream",
     "text": [
      "[ 0.711725  -0.0612732 -0.147167  ...  0.         0.         0.       ]\n"
     ]
    }
   ],
   "source": [
    "buffer = np.zeros(block_len)\n",
    "buffer[:channel_len] = channel\n",
    "channel_fft = np.fft.fft(buffer)\n",
    "\n",
    "length = input_signal.size\n",
    "#print(length)\n",
    "\n",
    "result = np.array([])"
   ]
  },
  {
   "cell_type": "code",
   "execution_count": 35,
   "metadata": {},
   "outputs": [
    {
     "name": "stdout",
     "output_type": "stream",
     "text": [
      "(-0.9210537000238274+0j)\n",
      "(25.62098960467547-23.22648405974004j)\n",
      "(-3.962160755856224+0j)\n",
      "[-21.52655058-20.04415537j -20.24303262-24.65944752j\n",
      " -21.15821945+19.03330491j  25.6209896 -23.22648406j\n",
      "  -3.96216076 +0.j          25.6209896 +23.22648406j\n",
      " -21.15821945-19.03330491j -20.24303262+24.65944752j]\n"
     ]
    }
   ],
   "source": [
    "for i in range(length//all_len):\n",
    "    block_before_discard = input_signal[all_len * i : all_len * (i + 1)]\n",
    "    block = block_before_discard[prefix_len:]\n",
    "    fft_result = np.fft.fft(block)\n",
    "    output = np.divide(fft_result, channel_fft)\n",
    "\n",
    "    info_block = output[1:512]\n",
    "\n",
    "    result = np.concatenate((result, info_block))"
   ]
  },
  {
   "cell_type": "code",
   "execution_count": 37,
   "metadata": {},
   "outputs": [],
   "source": [
    "def QPSK(input):\n",
    "    real = input.real\n",
    "    digit1 = real<0\n",
    "    digit1 = digit1.astype(int)\n",
    "    imag = input.imag\n",
    "    digit2 = imag<0\n",
    "    digit2 = digit2.astype(int)\n",
    "    return np.array([str(digit2[i])+str(digit1[i]) for i in range(len(digit1))])\n",
    "\n"
   ]
  },
  {
   "cell_type": "code",
   "execution_count": 38,
   "metadata": {},
   "outputs": [],
   "source": [
    "mapped = QPSK(result)\n"
   ]
  },
  {
   "cell_type": "code",
   "execution_count": 39,
   "metadata": {},
   "outputs": [],
   "source": [
    "output = \"\".join(mapped)\n",
    "output = np.savetxt('output2.txt',np.array([output]),fmt=\"%s\")"
   ]
  }
 ],
 "metadata": {
  "interpreter": {
   "hash": "81f0d0da299033d9fc089dde0b16816c8e819ee4fdcd9c5c527e1060b68cdc76"
  },
  "kernelspec": {
   "display_name": "Python 3.8.3 ('base')",
   "language": "python",
   "name": "python3"
  },
  "language_info": {
   "codemirror_mode": {
    "name": "ipython",
    "version": 3
   },
   "file_extension": ".py",
   "mimetype": "text/x-python",
   "name": "python",
   "nbconvert_exporter": "python",
   "pygments_lexer": "ipython3",
   "version": "3.8.3"
  },
  "orig_nbformat": 4
 },
 "nbformat": 4,
 "nbformat_minor": 2
}
