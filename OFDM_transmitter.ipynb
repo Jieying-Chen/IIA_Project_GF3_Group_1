{
 "cells": [
  {
   "cell_type": "code",
<<<<<<< Updated upstream
   "execution_count": null,
=======
   "execution_count": 1,
>>>>>>> Stashed changes
   "metadata": {},
   "outputs": [],
   "source": [
    "import numpy as np\n",
    "import matplotlib.pyplot as plt\n",
    "import os\n",
    "import scipy.signal\n",
    "from utils import encode, ofdm, channels, audio, decode,preamble\n",
    "import sounddevice as sd\n",
    "cwd = os.getcwd()"
   ]
  },
  {
   "cell_type": "code",
<<<<<<< Updated upstream
   "execution_count": null,
=======
   "execution_count": 2,
>>>>>>> Stashed changes
   "metadata": {},
   "outputs": [],
   "source": [
    "DFT_LENGTH = 8192\n",
    "CP_LENGTH = 1024\n",
    "silence_duration = 1\n",
    "chirp_duration = 1\n",
    "fs = 48000\n",
    "\n",
    "low_freq = 1000\n",
    "high_freq = 10000\n",
    "double_chirp = False\n",
    "\n",
    "encode_method = 'qpsk'\n",
    "if encode_method == 'bpsk':\n",
    "    bits_per_symbol = 1\n",
    "elif encode_method == 'qpsk':\n",
    "    bits_per_symbol = 2"
   ]
  },
  {
   "cell_type": "code",
<<<<<<< Updated upstream
   "execution_count": null,
=======
   "execution_count": 3,
>>>>>>> Stashed changes
   "metadata": {},
   "outputs": [],
   "source": [
    "# Generate a bit array as data to transmit\n",
    "new = True\n",
    "if new:\n",
    "    np.random.seed(2)\n",
    "    encoded = np.random.randint(2, size=1 * fs)\n",
    "    np.savetxt('encoded', encoded, fmt='%i')\n",
    "\n",
    "# Load a saved bit array\n",
    "encoded = np.loadtxt('encoded', dtype=np.int32)"
   ]
  },
  {
   "cell_type": "code",
<<<<<<< Updated upstream
   "execution_count": null,
=======
   "execution_count": 4,
>>>>>>> Stashed changes
   "metadata": {},
   "outputs": [],
   "source": [
    "if encode_method == 'qpsk':\n",
    "    symbols = encode.qpsk_encode(encoded)\n",
    "elif encode_method == 'bpsk':\n",
    "    symbols = encode.bpsk_encode(encoded)\n",
    "\n",
    "shifted = ofdm.subcarrier_shift_gaussian(symbols, DFT_LENGTH, fs, low_freq, high_freq, 0.01, bits_per_symbol, constellation=encode_method)\n",
    "ofdm_data = ofdm.symbols_to_ofdm(shifted, DFT_LENGTH, CP_LENGTH)"
   ]
  },
  {
   "cell_type": "code",
<<<<<<< Updated upstream
   "execution_count": null,
=======
   "execution_count": 5,
>>>>>>> Stashed changes
   "metadata": {},
   "outputs": [],
   "source": [
    "#generate known ofdm symbols\n",
    "known_ofdm = True\n",
    "seed_known = 0\n",
    "repeat_time = 5\n",
    "if known_ofdm:\n",
    "    known_ofdm_data = preamble.generate_known_ofdm(fs,DFT_LENGTH,CP_LENGTH,low_freq,high_freq,encode_method,repeat_time,seed_known)\n",
    "else:\n",
    "    known_ofdm_data = np.array([])"
   ]
  },
  {
   "cell_type": "code",
<<<<<<< Updated upstream
   "execution_count": null,
   "metadata": {},
   "outputs": [],
=======
   "execution_count": 6,
   "metadata": {},
   "outputs": [],
   "source": [
    "# Generate preamble and assemble\n",
    "chirp_start = preamble.generate_chirp(chirp_duration, fs, low=20, high=10000, silence_duration=silence_duration, double=double_chirp)\n",
    "# add chirp to end of transmission\n",
    "chirp_end = preamble.generate_chirp(chirp_duration, fs, low=20, high=10000, silence_duration=0, double=double_chirp)\n",
    "\n",
    "#assemble\n",
    "output_audio = np.concatenate((chirp_start,np.real(known_ofdm_data),np.real(ofdm_data),chirp_end,np.zeros(fs*silence_duration)))\n"
   ]
  },
  {
   "cell_type": "code",
   "execution_count": 7,
   "metadata": {},
   "outputs": [
    {
     "name": "stdout",
     "output_type": "stream",
     "text": [
      "41984 147456\n"
     ]
    },
    {
     "data": {
      "image/png": "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",
      "text/plain": [
       "<Figure size 432x288 with 1 Axes>"
      ]
     },
     "metadata": {
      "needs_background": "light"
     },
     "output_type": "display_data"
    }
   ],
   "source": [
    "plt.plot(output_audio)  #why is there those spikes?\n",
    "print(known_ofdm_data.size,ofdm_data.size)"
   ]
  },
  {
   "cell_type": "code",
   "execution_count": 8,
   "metadata": {},
   "outputs": [],
   "source": [
    "#save and play\n",
    "audio.signal_to_wav(np.real(output_audio), fs, 'ofdm_tester', 'audio_files')\n",
    "#sd.play(output_audio,fs,blocking=True)\n"
   ]
  },
  {
   "cell_type": "code",
   "execution_count": 9,
   "metadata": {},
   "outputs": [
    {
     "name": "stdout",
     "output_type": "stream",
     "text": [
      "48000 49152\n",
      "source:\n",
      " [0 1 1 0 0 1 0 1 0 1 0 1 1 1 1 1 1 1 0 0 0 0 1 1 1 0 0 0 1 1]\n",
      "decoded:\n",
      " [0 1 1 0 0 1 0 1 0 1 0 1 1 1 1 1 1 1 0 0 0 0 1 1 1 0 0 0 1 1]\n"
     ]
    }
   ],
>>>>>>> Stashed changes
   "source": [
    "# Send through Octagon\n",
    "octagon = channels.octagon(os.path.join(cwd, \"audio_files\"), fs)\n",
    "impulse_channel = np.array([1])\n",
<<<<<<< Updated upstream
    "channel = octagon[:CP_LENGTH]\n",
=======
    "channel = np.ones(10)\n",
    "H = np.fft.fft(channel)\n",
>>>>>>> Stashed changes
    "\n",
    "received = channels.channel_output(channel, np.real(ofdm_data))\n",
    "fft = ofdm.ofdm_to_fourier(received[:ofdm_data.size], DFT_LENGTH, CP_LENGTH)\n",
    "discarded = ofdm.subcarrier_extract(fft, DFT_LENGTH, fs, low_freq, high_freq)\n",
    "deconvolved = ofdm.deconvolve(discarded, H, DFT_LENGTH, fs, low_freq, high_freq)\n",
    "if encode_method == 'qpsk':\n",
    "    decoded = decode.qpsk_decode(deconvolved)\n",
    "elif encode_method == 'bpsk':\n",
    "    decoded = decode.bpsk_decode(deconvolved)\n",
    "print(encoded.size, decoded.size)\n",
    "print(\"source:\\n\", encoded[:30])\n",
    "print(\"decoded:\\n\", decoded[:30])\n",
    "\n"
   ]
  },
  {
   "cell_type": "code",
<<<<<<< Updated upstream
   "execution_count": null,
   "metadata": {},
   "outputs": [],
=======
   "execution_count": 10,
   "metadata": {},
   "outputs": [
    {
     "name": "stdout",
     "output_type": "stream",
     "text": [
      "correct rate:\n",
      " 1.0\n"
     ]
    }
   ],
>>>>>>> Stashed changes
   "source": [
    "equality = encoded == decoded[:encoded.size]\n",
    "equality = equality[10:]\n",
    "print(\"correct rate:\\n\", np.sum(equality.astype(int))/equality.size)"
   ]
  }
 ],
 "metadata": {
  "interpreter": {
   "hash": "63526c8586451ba8c2a2081f8ca815665976542e57074ee3e4dd6a58550a8b5d"
  },
  "kernelspec": {
   "display_name": "Python 3.10.4 ('GF3')",
   "language": "python",
   "name": "python3"
  },
  "language_info": {
   "codemirror_mode": {
    "name": "ipython",
    "version": 3
   },
   "file_extension": ".py",
   "mimetype": "text/x-python",
   "name": "python",
   "nbconvert_exporter": "python",
   "pygments_lexer": "ipython3",
   "version": "3.10.0"
  },
  "orig_nbformat": 4
 },
 "nbformat": 4,
 "nbformat_minor": 2
}
