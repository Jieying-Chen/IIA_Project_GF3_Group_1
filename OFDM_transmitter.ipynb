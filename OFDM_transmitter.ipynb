{
 "cells": [
  {
   "cell_type": "code",
   "execution_count": 1,
   "metadata": {},
   "outputs": [],
   "source": [
    "import numpy as np\n",
    "import matplotlib.pyplot as plt\n",
    "import os\n",
    "import scipy.signal\n",
    "from utils import encode, ofdm, channels, audio, decode\n",
    "\n",
    "cwd = os.getcwd()"
   ]
  },
  {
   "cell_type": "code",
   "execution_count": 2,
   "metadata": {},
   "outputs": [],
   "source": [
    "DFT_LENGTH = 8192\n",
    "CP_LENGTH = 1024\n",
    "silence_duration = 1\n",
    "chirp_duration = 1\n",
    "fs = 48000\n",
    "\n",
    "low_freq = 20\n",
    "high_freq = 10000\n",
    "double_chirp = False"
   ]
  },
  {
   "cell_type": "code",
   "execution_count": 3,
   "metadata": {},
   "outputs": [],
   "source": [
    "# Generate a bit array\n",
    "new = True\n",
    "if new:\n",
    "    np.random.seed(0)\n",
    "    encoded = np.random.randint(2, size=10 * fs)\n",
    "    np.savetxt('encoded', encoded, fmt='%i')"
   ]
  },
  {
   "cell_type": "code",
   "execution_count": 4,
   "metadata": {},
   "outputs": [
    {
     "name": "stdout",
     "output_type": "stream",
     "text": [
      "577395\n"
     ]
    }
   ],
   "source": [
    "# Load a saved bit array\n",
    "encoded = np.loadtxt('encoded', dtype=np.int32)\n",
    "qpsk_symbols = encode.qpsk_encode(encoded)\n",
    "shifted = ofdm.subcarrier_shift_gaussian(qpsk_symbols, DFT_LENGTH, fs, low_freq, high_freq, 1)\n"
   ]
  },
  {
   "cell_type": "code",
   "execution_count": 5,
   "metadata": {},
   "outputs": [
    {
     "name": "stdout",
     "output_type": "stream",
     "text": [
      "1299456\n",
      "[-0.0104164 +0.j -0.01013846+0.j  0.04766509+0.j -0.00720886+0.j\n",
      " -0.00423713+0.j  0.01903234+0.j -0.00581751+0.j  0.00668477+0.j\n",
      " -0.03407705+0.j -0.00192746+0.j]\n"
     ]
    }
   ],
   "source": [
    "ofdm_data = ofdm.symbols_to_ofdm(shifted, DFT_LENGTH, CP_LENGTH)\n",
    "print(ofdm_data.size)\n",
    "print(ofdm_data[:10])\n",
    "audio.signal_to_wav(np.real(ofdm_data), fs, 'ofdm_tester', 'audio_files')\n"
   ]
  },
  {
   "cell_type": "code",
   "execution_count": 6,
   "metadata": {},
   "outputs": [
    {
     "name": "stdout",
     "output_type": "stream",
     "text": [
      "480000 480246\n",
      "source:\n",
      " [0 1 1 0 1 1 1 1 1 1 1 0 0 1 0 0 0 0 0 1 0 1 1 0 0 1 1 1 1 0]\n",
      "decoded:\n",
      " [1 1 1 1 1 0 1 1 1 1 1 1 0 1 0 0 0 0 0 1 0 1 1 0 0 1 1 1 1 0]\n"
     ]
    }
   ],
   "source": [
    "# Send through Octagon\n",
    "octagon = channels.octagon(os.path.join(cwd, \"audio_files\"), fs)\n",
    "received = channels.channel_output(octagon, np.real(ofdm_data))\n",
    "fft = ofdm.ofdm_to_fourier(received[:ofdm_data.size], DFT_LENGTH, CP_LENGTH)\n",
    "discarded = ofdm.subcarrier_extract(fft, DFT_LENGTH, fs, low_freq, high_freq)\n",
    "deconvolved = ofdm.deconvolve(discarded, octagon, DFT_LENGTH, fs, low_freq, high_freq)\n",
    "decoded = decode.qpsk_decode(deconvolved)\n",
    "print(encoded.size, decoded.size)\n",
    "print(\"source:\\n\", encoded[:30])\n",
    "print(\"decoded:\\n\", decoded[:30])\n",
    "\n"
   ]
  },
  {
   "cell_type": "code",
   "execution_count": 7,
   "metadata": {},
   "outputs": [
    {
     "name": "stdout",
     "output_type": "stream",
     "text": [
      "correct rate:\n",
      " 0.74638125\n"
     ]
    }
   ],
   "source": [
    "equality = encoded == decoded[:encoded.size]\n",
    "print(\"correct rate:\\n\", np.sum(equality.astype(int))/equality.size)"
   ]
  }
 ],
 "metadata": {
  "interpreter": {
   "hash": "63526c8586451ba8c2a2081f8ca815665976542e57074ee3e4dd6a58550a8b5d"
  },
  "kernelspec": {
   "display_name": "Python 3.10.4 ('GF3')",
   "language": "python",
   "name": "python3"
  },
  "language_info": {
   "codemirror_mode": {
    "name": "ipython",
    "version": 3
   },
   "file_extension": ".py",
   "mimetype": "text/x-python",
   "name": "python",
   "nbconvert_exporter": "python",
   "pygments_lexer": "ipython3",
   "version": "3.10.4"
  },
  "orig_nbformat": 4
 },
 "nbformat": 4,
 "nbformat_minor": 2
}
