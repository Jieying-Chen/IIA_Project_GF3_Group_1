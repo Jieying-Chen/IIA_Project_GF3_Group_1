{
 "cells": [
  {
   "cell_type": "code",
   "execution_count": 1,
   "metadata": {},
   "outputs": [],
   "source": [
    "import numpy as np\n",
    "import matplotlib.pyplot as plt\n",
    "import os\n",
    "import scipy.signal\n",
    "from utils import encode, ofdm, channels, audio, decode,preamble\n",
    "import sounddevice as sd\n",
    "cwd = os.getcwd()"
   ]
  },
  {
   "cell_type": "code",
   "execution_count": 2,
   "metadata": {},
   "outputs": [],
   "source": [
    "DFT_LENGTH = 4096\n",
    "CP_LENGTH = 512\n",
    "silence_duration = 1\n",
    "chirp_duration = 1\n",
    "fs = 48000\n",
    "\n",
    "low_freq = 1000\n",
    "high_freq = 10000\n",
    "double_chirp = False\n",
    "\n",
    "encode_method = 'qpsk'\n",
    "if encode_method == 'bpsk':\n",
    "    bits_per_symbol = 1\n",
    "elif encode_method == 'qpsk':\n",
    "    bits_per_symbol = 2"
   ]
  },
  {
   "cell_type": "code",
   "execution_count": 3,
   "metadata": {},
   "outputs": [],
   "source": [
    "# Generate a bit array as data to transmit\n",
    "new = True\n",
    "\n",
    "spb = ofdm.subcarriers_per_block(fs,DFT_LENGTH,low_freq,high_freq)\n",
    "\n",
    "if new:\n",
    "    np.random.seed(3)\n",
    "    encoded = np.random.randint(2, size=2 * spb * 64)\n",
    "    np.savetxt('encoded', encoded, fmt='%i')\n",
    "\n",
    "# Load a saved bit array\n",
    "encoded = np.loadtxt('encoded', dtype=np.int32)"
   ]
  },
  {
   "cell_type": "code",
   "execution_count": 4,
   "metadata": {},
   "outputs": [],
   "source": [
    "if encode_method == 'qpsk':\n",
    "    symbols = encode.qpsk_encode(encoded)\n",
    "elif encode_method == 'bpsk':\n",
    "    symbols = encode.bpsk_encode(encoded)\n",
    "\n",
    "shifted = ofdm.subcarrier_shift_gaussian(symbols, DFT_LENGTH, fs, low_freq, high_freq, 0.01, bits_per_symbol, constellation=encode_method)\n",
    "ofdm_data = ofdm.symbols_to_ofdm(shifted, DFT_LENGTH, CP_LENGTH)"
   ]
  },
  {
   "cell_type": "code",
   "execution_count": 5,
   "metadata": {},
   "outputs": [],
   "source": [
    "#generate known ofdm symbols\n",
    "known_ofdm = True\n",
    "seed_known = 5\n",
    "repeat_time = 4\n",
    "if known_ofdm:\n",
    "    known_ofdm_data,symbol_first = preamble.generate_known_ofdm(fs,DFT_LENGTH,CP_LENGTH,low_freq,high_freq,encode_method,repeat_time,seed_known)\n",
    "else:\n",
    "    known_ofdm_data = np.array([])"
   ]
  },
  {
   "cell_type": "code",
   "execution_count": 6,
   "metadata": {},
   "outputs": [],
   "source": [
    "# Generate preamble and assemble\n",
    "chirp_start = preamble.generate_chirp(chirp_duration, fs, low=low_freq, high=high_freq, silence_duration=silence_duration, double=double_chirp)\n",
    "# add chirp to end of transmission\n",
    "chirp_end = preamble.generate_chirp(chirp_duration, fs, low=low_freq, high=high_freq, silence_duration=0, double=double_chirp)\n",
    "\n",
    "#assemble\n",
    "#output_audio = np.concatenate((chirp_start,np.real(known_ofdm_data),np.real(ofdm_data),chirp_end,np.zeros(fs*silence_duration)))\n",
    "\n",
    "\n",
    "output_audio = np.concatenate((chirp_start,np.real(known_ofdm_data),np.real(ofdm_data),np.real(known_ofdm_data),chirp_end))\n"
   ]
  },
  {
   "cell_type": "code",
   "execution_count": null,
   "metadata": {},
   "outputs": [],
   "source": [
    "print(np.concatenate((chirp_end,np.real(known_ofdm_data),np.real(ofdm_data),np.real(known_ofdm_data))).size)"
   ]
  },
  {
   "cell_type": "code",
   "execution_count": 7,
   "metadata": {},
   "outputs": [
    {
     "name": "stdout",
     "output_type": "stream",
     "text": [
      "16896 294912\n"
     ]
    },
    {
     "data": {
      "image/png": "[encoded data removed]",
      "text/plain": [
       "<Figure size 432x288 with 1 Axes>"
      ]
     },
     "metadata": {
      "needs_background": "light"
     },
     "output_type": "display_data"
    }
   ],
   "source": [
    "plt.plot(output_audio)  #why is there those spikes?\n",
    "print(known_ofdm_data.size,ofdm_data.size)"
   ]
  },
  {
   "cell_type": "code",
   "execution_count": 9,
   "metadata": {},
   "outputs": [],
   "source": [
    "#save and play\n",
    "audio.signal_to_wav(np.real(output_audio), fs, 'ofdm_tester', 'audio_files')\n",
    "sd.play(output_audio,fs,blocking=True)\n"
   ]
  },
  {
   "cell_type": "code",
   "execution_count": null,
   "metadata": {},
   "outputs": [],
   "source": [
    "octagon = channels.octagon(os.path.join(cwd, \"audio_files\"), fs)\n",
    "channel = octagon[100:500]\n",
    "received = channels.channel_output(channel, np.real(output_audio))\n",
    "audio.signal_to_wav(np.real(received), fs, 'ofdm_tester', 'audio_files')"
   ]
  },
  {
   "cell_type": "code",
   "execution_count": null,
   "metadata": {},
   "outputs": [],
   "source": [
    "# Send through Octagon\n",
    "octagon = channels.octagon(os.path.join(cwd, \"audio_files\"), fs)\n",
    "impulse_channel = np.array([1])\n",
    "channel = np.ones(10)\n",
    "H = np.fft.fft(channel)\n",
    "\n",
    "received = channels.channel_output(channel, np.real(ofdm_data))\n",
    "fft = ofdm.ofdm_to_fourier(received[:ofdm_data.size], DFT_LENGTH, CP_LENGTH)\n",
    "discarded = ofdm.subcarrier_extract(fft, DFT_LENGTH, fs, low_freq, high_freq)\n",
    "deconvolved = ofdm.deconvolve(discarded, H, DFT_LENGTH, fs, low_freq, high_freq)\n",
    "if encode_method == 'qpsk':\n",
    "    decoded = decode.qpsk_decode(deconvolved)\n",
    "elif encode_method == 'bpsk':\n",
    "    decoded = decode.bpsk_decode(deconvolved)\n",
    "print(encoded.size, decoded.size)\n",
    "print(\"source:\\n\", encoded[:30])\n",
    "print(\"decoded:\\n\", decoded[:30])\n",
    "\n"
   ]
  },
  {
   "cell_type": "code",
   "execution_count": null,
   "metadata": {},
   "outputs": [],
   "source": [
    "equality = encoded == decoded[:encoded.size]\n",
    "equality = equality[10:]\n",
    "print(\"correct rate:\\n\", np.sum(equality.astype(int))/equality.size)"
   ]
  },
  {
   "cell_type": "code",
   "execution_count": null,
   "metadata": {},
   "outputs": [],
   "source": []
  }
 ],
 "metadata": {
  "interpreter": {
   "hash": "e4ba2c2835bac95b056450fe4ad657800f897c097f78b31e6de995f2a103de5f"
  },
  "kernelspec": {
   "display_name": "Python 3.8.3 ('base')",
   "language": "python",
   "name": "python3"
  },
  "language_info": {
   "codemirror_mode": {
    "name": "ipython",
    "version": 3
   },
   "file_extension": ".py",
   "mimetype": "text/x-python",
   "name": "python",
   "nbconvert_exporter": "python",
   "pygments_lexer": "ipython3",
   "version": "3.8.3"
  },
  "orig_nbformat": 4
 },
 "nbformat": 4,
 "nbformat_minor": 2
}
