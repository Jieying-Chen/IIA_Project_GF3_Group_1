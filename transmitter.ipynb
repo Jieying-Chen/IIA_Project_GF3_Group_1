{
 "cells": [
  {
   "cell_type": "code",
   "execution_count": 1,
   "metadata": {},
   "outputs": [],
   "source": [
    "import numpy as np\n",
    "import matplotlib.pyplot as plt\n",
    "import os\n",
    "import scipy.signal\n",
    "from utils import audio, channels\n",
    "\n",
    "cwd = os.getcwd()"
   ]
  },
  {
   "cell_type": "code",
   "execution_count": 2,
   "metadata": {},
   "outputs": [
    {
     "data": {
      "image/png": "[encoded data removed]",
      "text/plain": [
       "<Figure size 432x288 with 1 Axes>"
      ]
     },
     "metadata": {
      "needs_background": "light"
     },
     "output_type": "display_data"
    }
   ],
   "source": [
    "silence_duration = 1\n",
    "chirp_duration = 1\n",
    "fs = 48000\n",
    "double_chirp = False\n",
    "\n",
    "# Generate a chirp signal with delay\n",
    "sample_times = np.linspace(0, chirp_duration, fs * chirp_duration)\n",
    "chirp = scipy.signal.chirp(sample_times, 20, chirp_duration, 10000)\n",
    "silence = np.zeros(fs * silence_duration)\n",
    "\n",
    "if double_chirp:\n",
    "    delayed_chirp = np.append(silence, np.tile(chirp, 2))\n",
    "    filename = \"double_chirp\"\n",
    "else:\n",
    "    delayed_chirp = np.append(silence, chirp)\n",
    "    filename = \"single_chirp\"\n",
    "\n",
    "audio.signal_to_wav(delayed_chirp, fs, filename, os.path.join(cwd, \"audio_files\"))\n",
    "\n",
    "plt.plot(delayed_chirp)\n",
    "plt.show(block=False)"
   ]
  },
  {
   "cell_type": "code",
   "execution_count": null,
   "metadata": {},
   "outputs": [],
   "source": [
    "#play the signal\n"
   ]
  },
  {
   "cell_type": "code",
   "execution_count": null,
   "metadata": {},
   "outputs": [],
   "source": [
    "# Send the delayed chirp through octagon channel\n",
    "octagon = channels.octagon(os.path.join(cwd, \"audio_files\"), fs)\n",
    "chirp_through_octagon = channels.channel_output(octagon, delayed_chirp, noise=True, sigma=0.1)\n",
    "\n",
    "audio.signal_to_wav(chirp_through_octagon, fs, filename+\"_octagon\", os.path.join(cwd, \"audio_files\"))\n",
    "\n",
    "plt.plot(chirp_through_octagon)\n",
    "plt.show(block=False)"
   ]
  }
 ],
 "metadata": {
  "interpreter": {
   "hash": "63526c8586451ba8c2a2081f8ca815665976542e57074ee3e4dd6a58550a8b5d"
  },
  "kernelspec": {
   "display_name": "Python 3.10.4 ('GF3')",
   "language": "python",
   "name": "python3"
  },
  "language_info": {
   "codemirror_mode": {
    "name": "ipython",
    "version": 3
   },
   "file_extension": ".py",
   "mimetype": "text/x-python",
   "name": "python",
   "nbconvert_exporter": "python",
   "pygments_lexer": "ipython3",
   "version": "3.10.0"
  },
  "orig_nbformat": 4
 },
 "nbformat": 4,
 "nbformat_minor": 2
}
