{
 "cells": [
  {
   "cell_type": "code",
   "execution_count": 76,
   "metadata": {},
   "outputs": [],
   "source": [
    "import numpy as np\n",
    "import matplotlib.pyplot as plt\n",
    "import os\n",
    "import scipy.signal\n",
    "from utils import audio, channels, synchronize, channel_estimate,ofdm, encode, decode, preamble\n",
    "\n",
    "cwd = os.getcwd()"
   ]
  },
  {
   "cell_type": "code",
   "execution_count": 77,
   "metadata": {},
   "outputs": [],
   "source": [
    "#baisc parameter definition\n",
    "filename = 'ofdm_tester'            #rememeber to change everytime\n",
    "\n",
    "chirp_duration = 1\n",
    "record_duration = 10\n",
    "fs = 48000\n",
    "\n",
    "DFT_LENGTH = 4096\n",
    "CP_LENGTH = 512\n",
    "low_freq = 1000\n",
    "high_freq = 10000\n",
    "\n",
    "encode_method = 'qpsk'\n",
    "double_chirp = False\n",
    "known_ofdm = True\n",
    "\n",
    "#define chirp used in the signal\n",
    "chirp_range = [20,10000]\n",
    "chirp = preamble.generate_chirp(chirp_duration, fs, low=chirp_range[0], high=chirp_range[1], silence_duration=0, double=double_chirp)\n",
    "\n",
    "#define known ofdm symbol\n",
    "seed_known = 5\n",
    "known_ofdm = True\n",
    "repeat_time = 4\n",
    "if known_ofdm:\n",
    "    known_ofdm_data = preamble.generate_known_ofdm(fs,DFT_LENGTH,CP_LENGTH,low_freq,high_freq,encode_method,repeat_time,seed_known)\n",
    "else:\n",
    "    known_ofdm_data = np.array([])\n",
    "spb = ofdm.subcarriers_per_block(fs,DFT_LENGTH,low_freq,high_freq)"
   ]
  },
  {
   "cell_type": "code",
   "execution_count": null,
   "metadata": {},
   "outputs": [],
   "source": [
    "#record and save\n",
    "received_signal = audio.record(record_duration, fs)\n",
    "audio.signal_to_wav(received_signal,fs,filename,\"audio_files\")"
   ]
  },
  {
   "cell_type": "code",
   "execution_count": 78,
   "metadata": {},
   "outputs": [
    {
     "name": "stderr",
     "output_type": "stream",
     "text": [
      "<ipython-input-78-0b1a1f45bd19>:2: VisibleDeprecationWarning: Creating an ndarray from ragged nested sequences (which is a list-or-tuple of lists-or-tuples-or ndarrays with different lengths or shapes) is deprecated. If you meant to do this, you must specify 'dtype=object' when creating the ndarray\n",
      "  received_signal,_ = np.array(audio.wav_to_signal(filename,'audio_files'))\n"
     ]
    }
   ],
   "source": [
    "#load recorded signals\n",
    "received_signal,_ = np.array(audio.wav_to_signal(filename,'audio_files'))"
   ]
  },
  {
   "cell_type": "code",
   "execution_count": 79,
   "metadata": {},
   "outputs": [],
   "source": [
    "#synchronize: convolve and find\n",
    "start,convolved = synchronize.chirp_synchronize(received_signal,chirp_range, fs,duration=1)\n",
    "event_end = np.array(synchronize.impulse_detect(convolved,fs,duration = 1,window_time=0.1,threshold=2))"
   ]
  },
  {
   "cell_type": "code",
   "execution_count": 89,
   "metadata": {},
   "outputs": [
    {
     "data": {
      "image/png": "[encoded data removed]",
      "text/plain": [
       "<Figure size 432x288 with 1 Axes>"
      ]
     },
     "metadata": {
      "needs_background": "light"
     },
     "output_type": "display_data"
    }
   ],
   "source": [
    "#plot the convolved result\n",
    "plt.plot(convolved)\n",
    "for pos in event_end:\n",
    "    plt.axvline(x = pos, color = 'r')\n",
    "plt.show()"
   ]
  },
  {
   "cell_type": "code",
   "execution_count": 80,
   "metadata": {},
   "outputs": [
    {
     "data": {
      "image/png": "[encoded data removed]",
      "text/plain": [
       "<Figure size 432x288 with 1 Axes>"
      ]
     },
     "metadata": {
      "needs_background": "light"
     },
     "output_type": "display_data"
    },
    {
     "name": "stdout",
     "output_type": "stream",
     "text": [
      "1 chirp events found, is that as expected? \n"
     ]
    }
   ],
   "source": [
    "#plot found chirp in received signal\n",
    "event_start = event_end - fs*chirp_duration\n",
    "chirp_received = received_signal[event_start[0]:event_start[0]+chirp_duration*fs]   #taking only the first event for the time being\n",
    "\n",
    "plt.plot(received_signal)\n",
    "for pos in event_start:\n",
    "    plt.axvline(x = pos, color = 'r')\n",
    "plt.show()\n",
    "event = event_start\n",
    "print(str(len(event))+\" chirp events found, is that as expected? \")"
   ]
  },
  {
   "cell_type": "code",
   "execution_count": 81,
   "metadata": {},
   "outputs": [
    {
     "name": "stdout",
     "output_type": "stream",
     "text": [
      "[48094]\n"
     ]
    }
   ],
   "source": [
    "print(event)"
   ]
  },
  {
   "cell_type": "code",
   "execution_count": 58,
   "metadata": {},
   "outputs": [],
   "source": [
    "event = event-90    #manual correction for sync problem.... would be problematic in real channel"
   ]
  },
  {
   "cell_type": "code",
   "execution_count": 63,
   "metadata": {},
   "outputs": [],
   "source": [
    "#estimate with known ofdm\n",
    "known_ofdm_start = int(event[0] + fs*(chirp_duration)) #need to change accordingly\n",
    "known_ofdm_end = known_ofdm_start + known_ofdm_data.size\n",
    "received_known = received_signal[known_ofdm_start:known_ofdm_end]  #received ofdm part\n",
    "\n",
    "#remove the first cyclic prefix manually then find discarded\n",
    "received_known = received_known[CP_LENGTH:]\n",
    "fft_known = ofdm.ofdm_to_fourier(received_known[:], DFT_LENGTH, cp_length=0) \n",
    "discarded_known = ofdm.subcarrier_extract(fft_known, DFT_LENGTH, fs, low_freq, high_freq)\n",
    "\n",
    "#estimate\n",
    "H_known_ofdm = ofdm.known_ofdm_estimate(discarded_known,repeat_time,spb,known_ofdm_data[CP_LENGTH:],DFT_LENGTH,low_freq,high_freq,fs)\n"
   ]
  },
  {
   "cell_type": "code",
   "execution_count": null,
   "metadata": {},
   "outputs": [],
   "source": [
    "plt.plot(np.fft.ifft(H_known_ofdm))"
   ]
  },
  {
   "cell_type": "code",
   "execution_count": 82,
   "metadata": {},
   "outputs": [],
   "source": [
    "known_ofdm_start = 48000*2 #need to change accordingly\n",
    "known_ofdm_end = known_ofdm_start + known_ofdm_data.size\n",
    "received_known = received_signal[known_ofdm_start:known_ofdm_end]  #received ofdm part\n",
    "\n",
    "#remove the first cyclic prefix manually then find discarded\n",
    "received_known = received_known[CP_LENGTH:]\n",
    "fft_known = ofdm.ofdm_to_fourier(received_known[:], DFT_LENGTH, cp_length=0) \n",
    "discarded_known = ofdm.subcarrier_extract(fft_known, DFT_LENGTH, fs, low_freq, high_freq)\n",
    "\n",
    "#estimate\n",
    "H_known_ofdm = ofdm.known_ofdm_estimate(discarded_known,repeat_time,spb,known_ofdm_data[CP_LENGTH:],DFT_LENGTH,low_freq,high_freq,fs)"
   ]
  },
  {
   "cell_type": "code",
   "execution_count": null,
   "metadata": {},
   "outputs": [],
   "source": [
    "print(received_known.size,fft_known.size,discarded_known.size)"
   ]
  },
  {
   "cell_type": "code",
   "execution_count": null,
   "metadata": {},
   "outputs": [],
   "source": [
    "plt.plot(np.fft.ifft(H_known_ofdm))\n",
    "print(min(np.angle(H_known_ofdm,deg=True)))\n",
    "print(max(np.angle(H_known_ofdm,deg=True)))"
   ]
  },
  {
   "cell_type": "code",
   "execution_count": null,
   "metadata": {},
   "outputs": [],
   "source": [
    "# estimate with method 3\n",
    "chirp_received = received_signal[event[0]:event[0]+chirp_duration*fs]\n",
    "reverse_chirp = chirp[::-1]\n",
    "estimate = channel_estimate.channelest3(reverse_chirp,chirp_received,fs,hsize=fs)\n",
    "\n",
    "#plt.plot(np.abs(np.fft.fft(estimate)[:20000]))\n",
    "#plt.title('method 3 estimation '+filename)\n",
    "h = estimate\n",
    "H = np.fft.fft(h[:10])\n",
    "plt.plot(H)"
   ]
  },
  {
   "cell_type": "code",
   "execution_count": null,
   "metadata": {},
   "outputs": [],
   "source": [
    "#estimate with method 1, direct division, don't know what's wrong\n",
    "Y = np.fft.fft(chirp_received)\n",
    "X = np.fft.fft(chirp)\n",
    "H = np.divide(Y[:10000],X[:10000])\n",
    "\n",
    "h = (np.fft.ifft(H, n=chirp_duration*fs))  #estimated channel\n",
    "#H_trimmed = np.divide(Y,X)[:20000]\n",
    "\n",
    "plt.plot(h)\n",
    "plt.title('method 1 estimation '+filename)"
   ]
  },
  {
   "cell_type": "code",
   "execution_count": 83,
   "metadata": {},
   "outputs": [
    {
     "name": "stdout",
     "output_type": "stream",
     "text": [
      "192.0\n"
     ]
    }
   ],
   "source": [
    "# ofdm_start = int(event[0] + fs*(chirp_duration)) #need to change accordingly\n",
    "# ofdm_end = int(event[1]-1)\n",
    "\n",
    "ofdm_start = int(known_ofdm_end)\n",
    "#ofdm_end = int(event[1])\n",
    "received_ofdm =received_signal[ofdm_start:-399]  #received ofdm information\n",
    "\n",
    "#might have synchronization problem so recieved length might not be correct, pad with zero for now... don't know if correct\n",
    "spb = ofdm.subcarriers_per_block(fs,DFT_LENGTH,low_freq, high_freq)\n",
    "#symbols = np.ceil(ofdm_end-ofdm_start)/spb\n",
    "#pad = np.zeros(int(symbols*spb-(ofdm_end-ofdm_start)))\n",
    "#received_ofdm = np.append(received_ofdm,pad )\n",
    "print(received_ofdm.size/spb)"
   ]
  },
  {
   "cell_type": "code",
   "execution_count": null,
   "metadata": {},
   "outputs": [],
   "source": [
    "print(received_ofdm.size,received_signal.size)"
   ]
  },
  {
   "cell_type": "code",
   "execution_count": 84,
   "metadata": {},
   "outputs": [],
   "source": [
    "#ofdm_size = 147456 #size of ofdm = symbol number * (dft+cp)length\n",
    "fft = ofdm.ofdm_to_fourier(received_ofdm, DFT_LENGTH, CP_LENGTH)\n",
    "discarded = ofdm.subcarrier_extract(fft, DFT_LENGTH, fs, low_freq, high_freq)\n",
    "deconvolved = ofdm.deconvolve(discarded, H_known_ofdm, DFT_LENGTH, fs, low_freq, high_freq,True)\n",
    "#deconvolved = ofdm.deconvolve(discarded, H, DFT_LENGTH, fs, low_freq, high_freq)"
   ]
  },
  {
   "cell_type": "code",
   "execution_count": null,
   "metadata": {},
   "outputs": [],
   "source": [
    "plt.plot(np.angle(deconvolved[:100]))\n",
    "mdic = {\"deconvolved\":deconvolved}\n",
    "scipy.io.savemat('deconvolved.mat',mdic)"
   ]
  },
  {
   "cell_type": "code",
   "execution_count": 85,
   "metadata": {},
   "outputs": [],
   "source": [
    "#check accuracy\n",
    "new = True\n",
    "if new:\n",
    "    np.random.seed(3)\n",
    "    encoded = np.random.randint(2, size=1 * fs)\n",
    "    np.savetxt('encoded', encoded, fmt='%i')\n"
   ]
  },
  {
   "cell_type": "code",
   "execution_count": 86,
   "metadata": {},
   "outputs": [
    {
     "data": {
      "image/png": "[encoded data removed]",
      "text/plain": [
       "<Figure size 432x288 with 1 Axes>"
      ]
     },
     "metadata": {
      "needs_background": "light"
     },
     "output_type": "display_data"
    },
    {
     "name": "stdout",
     "output_type": "stream",
     "text": [
      "24576\n"
     ]
    }
   ],
   "source": [
    "range = 48000\n",
    "plt.scatter(np.real(deconvolved[:range]),np.imag(deconvolved[:range]))\n",
    "plt.show()\n",
    "print(deconvolved.size)"
   ]
  },
  {
   "cell_type": "code",
   "execution_count": 87,
   "metadata": {},
   "outputs": [
    {
     "name": "stdout",
     "output_type": "stream",
     "text": [
      "48000 49152\n",
      "source:\n",
      " [0 0 1 1 0 0 0 1 1 1 0 1 1 1 0 1 1 0 0 0 0 1 1 0 0 0 1 0 0 0]\n",
      "decoded:\n",
      " [0 0 1 1 0 0 0 1 1 1 0 1 1 1 0 1 1 0 0 0 0 1 1 0 0 0 1 0 0 0]\n"
     ]
    }
   ],
   "source": [
    "if encode_method == 'qpsk':\n",
    "    decoded = decode.qpsk_decode(deconvolved)\n",
    "elif encode_method == 'bpsk':\n",
    "    decoded = decode.bpsk_decode(deconvolved)\n",
    "print(encoded.size, decoded.size)\n",
    "print(\"source:\\n\", encoded[:30])\n",
    "print(\"decoded:\\n\", decoded[:30])"
   ]
  },
  {
   "cell_type": "code",
   "execution_count": null,
   "metadata": {},
   "outputs": [],
   "source": [
    "print(encoded.size,decoded.size)"
   ]
  },
  {
   "cell_type": "code",
   "execution_count": 88,
   "metadata": {},
   "outputs": [
    {
     "name": "stdout",
     "output_type": "stream",
     "text": [
      "correct rate:\n",
      " 1.0\n"
     ]
    }
   ],
   "source": [
    "equality = encoded == decoded[:encoded.size]\n",
    "#equality = equality[:]\n",
    "print(\"correct rate:\\n\", np.sum(equality.astype(int))/equality.size)"
   ]
  },
  {
   "cell_type": "code",
   "execution_count": null,
   "metadata": {},
   "outputs": [],
   "source": []
  }
 ],
 "metadata": {
  "interpreter": {
   "hash": "e4ba2c2835bac95b056450fe4ad657800f897c097f78b31e6de995f2a103de5f"
  },
  "kernelspec": {
   "display_name": "Python 3.8.3 ('base')",
   "language": "python",
   "name": "python3"
  },
  "language_info": {
   "codemirror_mode": {
    "name": "ipython",
    "version": 3
   },
   "file_extension": ".py",
   "mimetype": "text/x-python",
   "name": "python",
   "nbconvert_exporter": "python",
   "pygments_lexer": "ipython3",
   "version": "3.8.3"
  },
  "orig_nbformat": 4
 },
 "nbformat": 4,
 "nbformat_minor": 2
}
