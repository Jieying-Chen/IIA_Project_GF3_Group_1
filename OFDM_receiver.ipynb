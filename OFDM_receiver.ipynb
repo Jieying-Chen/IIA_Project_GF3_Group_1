{
 "cells": [
  {
   "cell_type": "code",
   "execution_count": 1,
   "metadata": {},
   "outputs": [],
   "source": [
    "import numpy as np\n",
    "import matplotlib.pyplot as plt\n",
    "import os\n",
    "import scipy.signal\n",
    "from utils import audio, channels, synchronize, channel_estimate,ofdm, encode, decode, preamble\n",
    "\n",
    "cwd = os.getcwd()"
   ]
  },
  {
   "cell_type": "code",
   "execution_count": 2,
   "metadata": {},
   "outputs": [],
   "source": [
    "#baisc parameter definition\n",
    "filename = 'frame7'            #rememeber to change everytime\n",
    "\n",
    "chirp_duration = 1\n",
    "record_duration = 20\n",
    "fs = 48000\n",
    "\n",
    "DFT_LENGTH = 4096\n",
    "CP_LENGTH = 512\n",
    "symbol_per_frame = 128\n",
    "low_freq = 1000\n",
    "high_freq = 10000\n",
    "\n",
    "encode_method = 'qpsk'\n",
    "double_chirp = False\n",
    "known_ofdm = True\n",
    "\n",
    "#define chirp used in the signal\n",
    "chirp_range = [1000,10000]\n",
    "chirp = preamble.generate_chirp(chirp_duration, fs, low=chirp_range[0], high=chirp_range[1], silence_duration=0, double=double_chirp)\n",
    "\n",
    "#define known ofdm symbol\n",
    "seed_known = 7\n",
    "known_ofdm = True\n",
    "repeat_time = 4\n",
    "if known_ofdm:\n",
    "    known_ofdm_data = preamble.generate_known_ofdm(fs,DFT_LENGTH,CP_LENGTH,low_freq,high_freq,encode_method,repeat_time,seed_known)\n",
    "else:\n",
    "    known_ofdm_data = np.array([])\n",
    "spb = ofdm.subcarriers_per_block(fs,DFT_LENGTH,low_freq,high_freq)"
   ]
  },
  {
   "cell_type": "code",
   "execution_count": null,
   "metadata": {},
   "outputs": [],
   "source": [
    "#record and save\n",
    "received_signal = audio.record(record_duration, fs)\n",
    "audio.signal_to_wav(received_signal,fs,filename,\"audio_files\")"
   ]
  },
  {
   "cell_type": "code",
   "execution_count": null,
   "metadata": {},
   "outputs": [],
   "source": [
    "#load recorded signals\n",
    "received_signal,_ = np.array(audio.wav_to_signal(filename,'audio_files'))"
   ]
  },
  {
   "cell_type": "code",
   "execution_count": null,
   "metadata": {},
   "outputs": [],
   "source": [
    "#synchronize: convolve and find\n",
    "start,convolved = synchronize.chirp_synchronize(received_signal,chirp_range, fs,duration=1)\n",
    "event_end = np.array(synchronize.impulse_detect(convolved,fs,duration = 1,window_time=0.1,threshold=2))"
   ]
  },
  {
   "cell_type": "code",
   "execution_count": null,
   "metadata": {},
   "outputs": [],
   "source": [
    "#plot the convolved result\n",
    "# plt.plot(convolved)\n",
    "# for pos in event_end:\n",
    "#     plt.axvline(x = pos, color = 'r')\n",
    "# plt.show()"
   ]
  },
  {
   "cell_type": "code",
   "execution_count": null,
   "metadata": {},
   "outputs": [],
   "source": [
    "#plot found chirp in received signal\n",
    "event_start = event_end - fs*chirp_duration\n",
    "chirp_received = received_signal[event_start[0]:event_start[0]+chirp_duration*fs]   #taking only the first event for the time being\n",
    "\n",
    "plt.plot(received_signal)\n",
    "for pos in event_start:\n",
    "    plt.axvline(x = pos, color = 'r')\n",
    "plt.show()\n",
    "event = event_start\n",
    "print(str(len(event))+\" chirp events found at \"+ str(event)+\" , is that as expected? \")"
   ]
  },
  {
   "cell_type": "code",
   "execution_count": null,
   "metadata": {},
   "outputs": [],
   "source": [
    "print(event[1]-event[0]-671616)\n",
    "#event = event-30"
   ]
  },
  {
   "cell_type": "code",
   "execution_count": null,
   "metadata": {},
   "outputs": [],
   "source": [
    "#estimate with known ofdm\n",
    "known_ofdm_start = int(event[0] + fs*(chirp_duration)) #need to change accordingly\n",
    "known_ofdm_end = known_ofdm_start + known_ofdm_data.size\n",
    "received_known = received_signal[known_ofdm_start:known_ofdm_end]  #received ofdm part\n",
    "\n",
    "#remove the first cyclic prefix manually then find discarded\n",
    "received_known = received_known[CP_LENGTH:]\n",
    "fft_known = ofdm.ofdm_to_fourier(received_known[:], DFT_LENGTH, cp_length=0) \n",
    "discarded_known = ofdm.subcarrier_extract(fft_known, DFT_LENGTH, fs, low_freq, high_freq)\n",
    "\n",
    "#estimate\n",
    "H_known_ofdm = ofdm.known_ofdm_estimate(discarded_known,repeat_time,known_ofdm_data[CP_LENGTH:],DFT_LENGTH,low_freq,high_freq,fs)\n"
   ]
  },
  {
   "cell_type": "code",
   "execution_count": null,
   "metadata": {},
   "outputs": [],
   "source": [
    "# # estimate with method 3\n",
    "# chirp_received = received_signal[event[0]:event[0]+chirp_duration*fs]\n",
    "# reverse_chirp = chirp[::-1]\n",
    "# estimate = channel_estimate.channelest3(reverse_chirp,chirp_received,fs,hsize=fs)\n",
    "\n",
    "# #plt.plot(np.abs(np.fft.fft(estimate)[:20000]))\n",
    "# #plt.title('method 3 estimation '+filename)\n",
    "# h = estimate\n",
    "# H = np.fft.fft(h[:])\n",
    "# plt.plot(H)"
   ]
  },
  {
   "cell_type": "code",
   "execution_count": null,
   "metadata": {},
   "outputs": [],
   "source": [
    "#used for ofdm after a chirp only\n",
    "ofdm_start = int(known_ofdm_end)\n",
    "end = received_signal.size      #end of the possible range with a signal\n",
    "correction = (end-ofdm_start)%(DFT_LENGTH+CP_LENGTH)\n",
    "#ofdm_end = end - correction\n",
    "ofdm_end = ofdm_start+symbol_per_frame*(DFT_LENGTH+CP_LENGTH)       #hard coded, need to check\n",
    "received_ofdm =received_signal[ofdm_start:ofdm_end]  #received ofdm information\n",
    "fft = ofdm.ofdm_to_fourier(received_ofdm, DFT_LENGTH, CP_LENGTH)\n",
    "discarded = ofdm.subcarrier_extract(fft, DFT_LENGTH, fs, low_freq, high_freq)\n",
    "deconvolved = ofdm.deconvolve(discarded, H_known_ofdm, DFT_LENGTH, fs, low_freq, high_freq,True)"
   ]
  },
  {
   "cell_type": "code",
   "execution_count": null,
   "metadata": {},
   "outputs": [],
   "source": [
    "#plot the phase difference between the two channel estimation done with known ofdm symbols\n",
    "phase_diff,H1,H2 = synchronize.phase_difference(received_signal, event,known_ofdm_data,CP_LENGTH,DFT_LENGTH,fs,low_freq,high_freq,repeat_time)"
   ]
  },
  {
   "cell_type": "code",
   "execution_count": null,
   "metadata": {},
   "outputs": [],
   "source": [
    "#find regression of the phase diff plot by looking at a selected linear range\n",
    "slope2=0\n",
    "intercept2 = 0\n",
    "start1 = 1\n",
    "end1 = 5  #select manually\n",
    "plt.plot(phase_diff[start1:end1])\n",
    "section1 = phase_diff[start1:end1]\n",
    "x_1 = np.linspace(0,end1,num=(end1-start1))\n",
    "slope1, intercept1, r_value, p_value, std_err = scipy.stats.linregress(x_1, section1)\n",
    "plt.plot(x_1*slope1+intercept1)\n",
    "print(slope1,intercept1)"
   ]
  },
  {
   "cell_type": "code",
   "execution_count": null,
   "metadata": {},
   "outputs": [],
   "source": [
    "x_2 = np.linspace(0,spb,num=spb)\n",
    "correction1 = np.exp(-(slope1*x_2+intercept1)*1j)  #compensate with the regression result from last block\n",
    "phase_diff_1 = np.angle(np.divide(H1,H2)*correction1)\n",
    "slope2, intercept2, r_value, p_value, std_err = scipy.stats.linregress(x_2, phase_diff_1)\n",
    "plt.plot(phase_diff_1)\n",
    "plt.plot(slope2*x_2+intercept2)"
   ]
  },
  {
   "cell_type": "code",
   "execution_count": null,
   "metadata": {},
   "outputs": [],
   "source": [
    "#check that all phase shift is accounted for\n",
    "correction2 = np.exp(-(slope2*x_2+intercept2)*1j)\n",
    "phase_diff_3 = np.angle(np.divide(H1,H2)*correction1*correction2)\n",
    "plt.plot(phase_diff_3)\n",
    "slope = slope1+slope2\n",
    "intercept = intercept1+intercept2\n",
    "print(slope,intercept)"
   ]
  },
  {
   "cell_type": "code",
   "execution_count": null,
   "metadata": {},
   "outputs": [],
   "source": [
    "#phase correction, given slope, intercept\n",
    "#assume slope and intercept increament linearly between all unknown ofdm symbols\n",
    "slopes = np.linspace(0,slope,num=symbol_per_frame)\n",
    "intercepts = np.linspace(0,intercept,num=symbol_per_frame)\n",
    "x_symbol = np.linspace(0,spb,num=spb)\n",
    "corrected = np.array([])\n",
    "deconvolved_reshape =  np.reshape(deconvolved,(-1,spb))\n",
    "#print(deconvolved_reshape.shape)\n",
    "for i in range(deconvolved_reshape.shape[0]):\n",
    "    #print(i,slopes[i],intercepts[i])\n",
    "    phase_correct = np.exp(x_symbol*slopes[i]+intercepts[i])*np.exp(1j)\n",
    "    corrected = np.append(corrected,deconvolved_reshape[i,:]*phase_correct)\n",
    "#print(corrected.shape)\n",
    "deconvolved = corrected"
   ]
  },
  {
   "cell_type": "code",
   "execution_count": null,
   "metadata": {},
   "outputs": [],
   "source": [
    "plt.plot(np.angle(deconvolved[:100]))\n",
    "mdic = {\"deconvolved\":deconvolved}\n",
    "#scipy.io.savemat('deconvolved.mat',mdic)"
   ]
  },
  {
   "cell_type": "code",
   "execution_count": null,
   "metadata": {},
   "outputs": [],
   "source": [
    "#check accuracy\n",
    "new = True\n",
    "if new:\n",
    "    np.random.seed(8)\n",
    "    encoded = np.random.randint(2, size=2*128*spb)\n",
    "    np.savetxt('encoded', encoded, fmt='%i')\n"
   ]
  },
  {
   "cell_type": "code",
   "execution_count": null,
   "metadata": {},
   "outputs": [],
   "source": [
    "phase_plot_range = 1000\n",
    "plt.scatter(np.real(deconvolved[:phase_plot_range]),np.imag(deconvolved[:phase_plot_range])) #plot the received phase distribution\n",
    "#plt.xlim([-5,5])\n",
    "#plt.ylim([-5,5])\n",
    "print(deconvolved.size)"
   ]
  },
  {
   "cell_type": "code",
   "execution_count": null,
   "metadata": {},
   "outputs": [],
   "source": [
    "if encode_method == 'qpsk':\n",
    "    decoded = decode.qpsk_decode(deconvolved)\n",
    "elif encode_method == 'bpsk':\n",
    "    decoded = decode.bpsk_decode(deconvolved)\n",
    "print(encoded.size, decoded.size)\n",
    "print(\"source:\\n\", encoded[:30])\n",
    "print(\"decoded:\\n\", decoded[:30])"
   ]
  },
  {
   "cell_type": "code",
   "execution_count": null,
   "metadata": {},
   "outputs": [],
   "source": [
    "equality = encoded == decoded[:encoded.size]\n",
    "#equality = equality[:768]\n",
    "print(\"correct rate:\\n\", np.sum(equality.astype(int))/equality.size)"
   ]
  },
  {
   "cell_type": "code",
   "execution_count": null,
   "metadata": {},
   "outputs": [],
   "source": [
    "#error of each symbol\n",
    "e_symbol = [0]*128\n",
    "for n in np.linspace(0,127,num=128):\n",
    "    n=int(n)\n",
    "    a = equality[768*n:768*(n+1)]\n",
    "    e_symbol[n] = np.round(np.sum(a.astype(int))/a.size,4)\n",
    "plt.plot(e_symbol)"
   ]
  },
  {
   "cell_type": "code",
   "execution_count": null,
   "metadata": {},
   "outputs": [],
   "source": []
  }
 ],
 "metadata": {
  "interpreter": {
   "hash": "e4ba2c2835bac95b056450fe4ad657800f897c097f78b31e6de995f2a103de5f"
  },
  "kernelspec": {
   "display_name": "Python 3.8.3 ('base')",
   "language": "python",
   "name": "python3"
  },
  "language_info": {
   "codemirror_mode": {
    "name": "ipython",
    "version": 3
   },
   "file_extension": ".py",
   "mimetype": "text/x-python",
   "name": "python",
   "nbconvert_exporter": "python",
   "pygments_lexer": "ipython3",
   "version": "3.10.0"
  },
  "orig_nbformat": 4
 },
 "nbformat": 4,
 "nbformat_minor": 2
}
