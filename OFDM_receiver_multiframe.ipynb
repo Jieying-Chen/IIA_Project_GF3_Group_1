{
 "cells": [
  {
   "cell_type": "code",
   "execution_count": null,
   "metadata": {},
   "outputs": [],
   "source": [
    "import numpy as np\n",
    "import matplotlib.pyplot as plt\n",
    "import os\n",
    "import scipy.signal\n",
    "from utils import audio, channels, synchronize, channel_estimate,ofdm, encode, decode, preamble,correction\n",
    "\n",
    "cwd = os.getcwd()"
   ]
  },
  {
   "cell_type": "code",
   "execution_count": null,
   "metadata": {},
   "outputs": [],
   "source": [
    "#baisc parameter definition\n",
    "filename = 'output'            #rememeber to change everytime\n",
    "\n",
    "chirp_duration = 1\n",
    "record_duration = 50\n",
    "fs = 48000\n",
    "\n",
    "DFT_LENGTH = 4096\n",
    "CP_LENGTH = 512\n",
    "OFDM_LENGTH = 4608\n",
    "symbol_per_frame = 128\n",
    "low_freq = 1000\n",
    "high_freq = 10000\n",
    "\n",
    "encode_method = 'qpsk'\n",
    "double_chirp = False\n",
    "known_ofdm = True\n",
    "\n",
    "#define chirp used in the signal\n",
    "chirp_range = [1000,10000]\n",
    "chirp = preamble.generate_chirp(chirp_duration, fs, low=chirp_range[0], high=chirp_range[1], silence_duration=0, double=double_chirp)\n",
    "\n",
    "#define known ofdm symbol\n",
    "known_ofdm = True\n",
    "repeat_time = 4\n",
    "known_ofdm_data = preamble.load_known_ofdm(CP_LENGTH,repeat_time)\n",
    "spb = ofdm.subcarriers_per_block(fs,DFT_LENGTH,low_freq,high_freq)"
   ]
  },
  {
   "cell_type": "code",
   "execution_count": null,
   "metadata": {},
   "outputs": [],
   "source": [
    "#load recorded signals\n",
    "received_signal,_ = audio.wav_to_signal(filename,'audio_files')"
   ]
  },
  {
   "cell_type": "code",
   "execution_count": null,
   "metadata": {},
   "outputs": [],
   "source": [
    "#synchronize: convolve and find\n",
    "start,convolved = synchronize.chirp_synchronize(received_signal,chirp_range, fs,duration=1)\n",
    "event_end = np.array(synchronize.impulse_detect(abs(convolved),fs,duration = 1,window_time=0.3,threshold=2))\n",
    "\n",
    "#plot the convolved result\n",
    "plt.plot(convolved)\n",
    "for pos in event_end:\n",
    "    plt.axvline(x = pos, color = 'r')\n",
    "plt.show()"
   ]
  },
  {
   "cell_type": "code",
   "execution_count": null,
   "metadata": {},
   "outputs": [],
   "source": [
    "#plot found chirp in received signal\n",
    "event_start = event_end - fs*chirp_duration\n",
    "# chirp_received = received_signal[event_start[0]:event_start[0]+chirp_duration*fs]   #taking only the first event for the time being\n",
    "\n",
    "plt.plot(received_signal)\n",
    "for pos in event_start:\n",
    "    plt.axvline(x = pos, color = 'r')\n",
    "plt.show()\n",
    "print(len(event_start), \" chirp events found at\", event_start)"
   ]
  },
  {
   "cell_type": "code",
   "execution_count": null,
   "metadata": {},
   "outputs": [],
   "source": [
    "event_start = event_start-5"
   ]
  },
  {
   "cell_type": "code",
   "execution_count": null,
   "metadata": {},
   "outputs": [],
   "source": [
    "num_of_frames = len(event_start) // 2 - 1\n",
    "events = np.array([ [event_start[2*i+1],event_start[2*i+2]] for i in range(num_of_frames) ])\n",
    "pre_chirp_starts = events[:,0]\n",
    "post_chirp_starts = events[:,1]\n",
    "intervals = post_chirp_starts - pre_chirp_starts\n",
    "frame_lengths = np.array([round((intervals[j]-chirp_duration*fs-2*known_ofdm_data.size)/OFDM_LENGTH) for j in range(num_of_frames)])\n",
    "print(\"lengths of data frames: \", frame_lengths)\n",
    "ori_lengths = frame_lengths * OFDM_LENGTH + 2*known_ofdm_data.size + chirp_duration*fs\n",
    "sample_diffs = intervals - ori_lengths\n",
    "print(str(num_of_frames)+\" frames found, sample diff \",sample_diffs)"
   ]
  },
  {
   "cell_type": "code",
   "execution_count": null,
   "metadata": {},
   "outputs": [],
   "source": [
    "#estimate with known ofdm\n",
    "known_ofdm_start = (pre_chirp_starts + int(fs*(chirp_duration))) #need to change accordingly\n",
    "known_ofdm_end = known_ofdm_start + known_ofdm_data.size\n",
    "\n",
    "received_known = np.array([received_signal[known_ofdm_start[i]:known_ofdm_end[i]] for i in range(num_of_frames)]) #received ofdm part\n",
    "\n",
    "#remove the first cyclic prefix manually then find discarded\n",
    "received_known = received_known[:,CP_LENGTH:]\n",
    "\n",
    "H_known_ofdm = [ofdm.known_ofdm_estimate_edited(received_known[i,:], \n",
    "known_ofdm_data[CP_LENGTH:CP_LENGTH+DFT_LENGTH], DFT_LENGTH, CP_LENGTH, low_freq, high_freq, fs) for i in range(num_of_frames)]\n",
    "sigma = [decode.channel_noise(H_known_ofdm[i][1],received_known[i,:],known_ofdm_data,CP_LENGTH,DFT_LENGTH) for i in range(num_of_frames)]\n",
    "print(\"noise estimation: \", sigma)"
   ]
  },
  {
   "cell_type": "code",
   "execution_count": null,
   "metadata": {},
   "outputs": [],
   "source": [
    "#used for ofdm after a chirp only\n",
    "ofdm_start = known_ofdm_end\n",
    "ofdm_end = ofdm_start+frame_lengths*(OFDM_LENGTH)\n",
    "deconvolved_list = []\n",
    "for i in range(num_of_frames):\n",
    "    received_ofdm = received_signal[ofdm_start[i]:ofdm_end[i]]\n",
    "    \n",
    "    #process received data\n",
    "    fft = ofdm.ofdm_to_fourier(received_ofdm, DFT_LENGTH, CP_LENGTH)\n",
    "    discarded = ofdm.subcarrier_extract(fft, DFT_LENGTH, fs, low_freq, high_freq)\n",
    "    deconvolved = ofdm.deconvolve(discarded, H_known_ofdm[i][1], DFT_LENGTH, fs, low_freq, high_freq)\n",
    "    deconvolved_list += [deconvolved]\n"
   ]
  },
  {
   "cell_type": "code",
   "execution_count": null,
   "metadata": {},
   "outputs": [],
   "source": [
    "# phase correction\n",
    "from IPython.display import clear_output\n",
    "corrected_symbols = np.array([])\n",
    "corrected_list  = []\n",
    "for i in range(num_of_frames):\n",
    "\n",
    "    #plot the phase difference between the two channel estimation done with known ofdm symbols\n",
    "    phase_diff, H1, H2 = correction.phase_difference(received_signal, events[i,:],known_ofdm_data,CP_LENGTH,DFT_LENGTH,fs,low_freq,high_freq,repeat_time)\n",
    "    phase_diff_unwrapped = correction.unwrap_phase(phase_diff)\n",
    "    #find regression of the phase diff plot by looking at a selected linear range\n",
    "    #iterate until satisfied with range for regression\n",
    "    slope1, intercept1, r_value, p_value, std_err = scipy.stats.linregress(np.arange(spb), phase_diff_unwrapped)\n",
    "    plt.plot(phase_diff_unwrapped)\n",
    "    plt.plot(np.arange(spb)*slope1+intercept1)\n",
    "    plt.title(\"Regression on unwrapped phase difference\")\n",
    "    plt.show()\n",
    "    \n",
    "    reply = None\n",
    "    multi_regression = False\n",
    "    while reply != 'y':\n",
    "        reply = input(\"y: Proceed with unwrapped signal or type the range to perform regression\").lower()\n",
    "        if reply == 'y':\n",
    "            slope = slope1\n",
    "        else:\n",
    "            regression_range_1 = np.array(reply.split()).astype(int)\n",
    "        \n",
    "            start1,end1 = regression_range_1\n",
    "            if end1 > phase_diff.size:\n",
    "                end1 = phase_diff.size\n",
    "            plt.plot(phase_diff[start1:end1])\n",
    "            section1 = phase_diff[start1:end1]\n",
    "            x_1 = np.linspace(0,end1,num=(end1-start1))\n",
    "            slope1, intercept1, r_value, p_value, std_err = scipy.stats.linregress(x_1, section1)\n",
    "            plt.plot(x_1*slope1+intercept1)\n",
    "            print(slope1,intercept1)\n",
    "            plt.title(\"1st regression\")\n",
    "            plt.show()\n",
    "            reply = input(\"confirm range? y/n\").lower()\n",
    "            if reply == 'y':\n",
    "                multi_regression = True\n",
    "\n",
    "    clear_output()\n",
    "    if multi_regression:\n",
    "        slope = correction.regression_correction(spb,slope1,intercept1,H1,H2,deconvolved_list[i],frame_lengths[i])\n",
    "\n",
    "\n",
    "    full_sample_diff = sample_diffs[i] + slope * DFT_LENGTH / 2 / np.pi\n",
    "    corrected = correction.phase_correction(deconvolved_list[i], full_sample_diff, DFT_LENGTH, CP_LENGTH, fs, low_freq, high_freq, chirp_duration)\n",
    "    corrected_symbols = np.append(corrected_symbols, corrected)\n",
    "    corrected_list.append(corrected)"
   ]
  },
  {
   "cell_type": "code",
   "execution_count": null,
   "metadata": {},
   "outputs": [],
   "source": [
    "phase_plot_range = 3000\n",
    "plt.scatter(np.real(corrected_symbols[:phase_plot_range]),np.imag(corrected_symbols[:phase_plot_range])) #plot the received phase distribution\n",
    "print(\"Total symbols received: \", corrected_symbols.size)"
   ]
  },
  {
   "cell_type": "code",
   "execution_count": null,
   "metadata": {},
   "outputs": [],
   "source": [
    "decoded = decode.qpsk_decode(corrected_symbols)\n",
    "\n",
    "#check accuracy\n",
    "new = False\n",
    "if new:\n",
    "    np.random.seed(8)\n",
    "    encoded = np.random.randint(2, size=int(5*128*spb*2.75))\n",
    "    np.savetxt('encoded', encoded, fmt='%i')\n",
    "else:\n",
    "    encoded = np.loadtxt('encoded', dtype=np.int32)\n",
    "\n",
    "print(encoded.size, decoded.size)\n",
    "print(\"source:\\n\", encoded[:30])\n",
    "print(\"decoded:\\n\", decoded[:30])"
   ]
  },
  {
   "cell_type": "code",
   "execution_count": null,
   "metadata": {},
   "outputs": [],
   "source": [
    "min_len = min(encoded.size, decoded.size)\n",
    "equality = np.equal(encoded[:min_len], decoded[:min_len])\n",
    "equality = equality[:]\n",
    "print(\"correct rate:\\n\", np.sum(equality.astype(int))/equality.size)"
   ]
  },
  {
   "cell_type": "code",
   "execution_count": null,
   "metadata": {},
   "outputs": [],
   "source": [
    "#error of each symbol\n",
    "e_symbol = [0]*sum(frame_lengths)\n",
    "for n in range(sum(frame_lengths)):\n",
    "    a = equality[2*spb*n:2*spb*(n+1)]\n",
    "    e_symbol[n] = np.round(np.sum(a.astype(int))/a.size,4)\n",
    "plt.plot(e_symbol)\n",
    "print(e_symbol[0])"
   ]
  },
  {
   "cell_type": "code",
   "execution_count": null,
   "metadata": {},
   "outputs": [],
   "source": [
    "#ldpc decoding\n",
    "\n",
    "result = [decode.ldpc_decode(corrected_list[i],sigma[i],spb)  for i in range(num_of_frames)]         #deals with one frame only\n",
    "decoded_ldpc = np.concatenate(np.array([(result[i][0]<=0).astype(int) for i in range(num_of_frames) ]))\n",
    "iteration = ([result[i][1] for i in range(num_of_frames) ])\n",
    "\n",
    "#decoded info error rate\n",
    "#info = np.loadtxt('info', dtype=np.int32)\n",
    "info = 1\n",
    "\n",
    "print(info[:30])\n",
    "print(decoded_ldpc[:30])\n",
    "    \n",
    "equality_ldpc = info[:decoded_ldpc.size] == decoded_ldpc[:]\n",
    "print(\"correct rate of decoded information:\\n\", np.sum(equality_ldpc.astype(int))/equality_ldpc.size) "
   ]
  },
  {
   "cell_type": "code",
   "execution_count": null,
   "metadata": {},
   "outputs": [],
   "source": [
    "print(info,decoded_ldpc.shape)\n",
    "\n",
    "#print(iteration)"
   ]
  },
  {
   "cell_type": "code",
   "execution_count": null,
   "metadata": {},
   "outputs": [],
   "source": [
    "from utils import file_preparation\n",
    "\n",
    "file_preparation.file_decode(decoded_ldpc)"
   ]
  },
  {
   "cell_type": "code",
   "execution_count": null,
   "metadata": {},
   "outputs": [],
   "source": []
  }
 ],
 "metadata": {
  "interpreter": {
   "hash": "63526c8586451ba8c2a2081f8ca815665976542e57074ee3e4dd6a58550a8b5d"
  },
  "kernelspec": {
   "display_name": "Python 3.10.4 ('GF3')",
   "language": "python",
   "name": "python3"
  },
  "language_info": {
   "codemirror_mode": {
    "name": "ipython",
    "version": 3
   },
   "file_extension": ".py",
   "mimetype": "text/x-python",
   "name": "python",
   "nbconvert_exporter": "python",
   "pygments_lexer": "ipython3",
   "version": "3.10.0"
  },
  "orig_nbformat": 4
 },
 "nbformat": 4,
 "nbformat_minor": 2
}
