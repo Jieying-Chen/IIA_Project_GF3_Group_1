{
 "cells": [
  {
   "cell_type": "code",
   "execution_count": null,
   "metadata": {},
   "outputs": [],
   "source": [
    "import numpy as np\n",
    "import matplotlib.pyplot as plt\n",
    "import os\n",
    "import scipy.signal\n",
    "from utils import audio, channels, synchronize, channel_estimate,ofdm, encode, decode, preamble,correction\n",
    "\n",
    "cwd = os.getcwd()"
   ]
  },
  {
   "cell_type": "code",
   "execution_count": null,
   "metadata": {},
   "outputs": [],
   "source": [
    "#baisc parameter definition\n",
    "filename = 'self_test_06_31_53'            #rememeber to change everytime\n",
    "\n",
    "chirp_duration = 1\n",
    "record_duration = 20\n",
    "fs = 48000\n",
    "\n",
    "DFT_LENGTH = 4096\n",
    "CP_LENGTH = 512\n",
    "symbol_per_frame = 128\n",
    "low_freq = 1000\n",
    "high_freq = 10000\n",
    "\n",
    "encode_method = 'qpsk'\n",
    "double_chirp = False\n",
    "known_ofdm = True\n",
    "\n",
    "#define chirp used in the signal\n",
    "chirp_range = [1000,10000]\n",
    "chirp = preamble.generate_chirp(chirp_duration, fs, low=chirp_range[0], high=chirp_range[1], silence_duration=0, double=double_chirp)\n",
    "\n",
    "#define known ofdm symbol\n",
    "known_ofdm = True\n",
    "repeat_time = 4\n",
    "known_ofdm_data = preamble.load_known_ofdm(CP_LENGTH,repeat_time)\n",
    "spb = ofdm.subcarriers_per_block(fs,DFT_LENGTH,low_freq,high_freq)"
   ]
  },
  {
   "cell_type": "code",
   "execution_count": null,
   "metadata": {},
   "outputs": [],
   "source": [
    "# load recorded signals\n",
    "received_signal,_ = audio.wav_to_signal(filename,'audio_files')\n",
    "# received_signal = np.load(\"rec.npy\")"
   ]
  },
  {
   "cell_type": "code",
   "execution_count": null,
   "metadata": {},
   "outputs": [],
   "source": [
    "#synchronize: convolve and find\n",
    "start,convolved = synchronize.chirp_synchronize(received_signal,chirp_range, fs,duration=1)\n",
    "event_end = np.array(synchronize.impulse_detect(abs(convolved),fs,duration = 1,window_time=0.3,threshold=2))"
   ]
  },
  {
   "cell_type": "code",
   "execution_count": null,
   "metadata": {},
   "outputs": [],
   "source": [
    "#plot the convolved result\n",
    "plt.plot(convolved)\n",
    "for pos in event_end:\n",
    "    plt.axvline(x = pos, color = 'r')\n",
    "plt.show()"
   ]
  },
  {
   "cell_type": "code",
   "execution_count": null,
   "metadata": {},
   "outputs": [],
   "source": [
    "# #check that the synchronization is correct\n",
    "# a1 = np.argmax(abs(convolved[:record_duration*fs//2]))\n",
    "# a2 = np.argmax(abs(convolved[record_duration*fs//2:])) + record_duration*fs//2\n",
    "\n",
    "# print(event_end,\"max of convoled data: \", a1,a2)"
   ]
  },
  {
   "cell_type": "code",
   "execution_count": null,
   "metadata": {},
   "outputs": [],
   "source": [
    "#plot found chirp in received signal\n",
    "event_start = event_end - fs*chirp_duration\n",
    "chirp_received = received_signal[event_start[0]:event_start[0]+chirp_duration*fs]   #taking only the first event for the time being\n",
    "\n",
    "plt.plot(received_signal)\n",
    "for pos in event_start:\n",
    "    plt.axvline(x = pos, color = 'r')\n",
    "plt.show()\n",
    "print(str(len(event_start))+\" chirp events found at \"+ str(event_start))"
   ]
  },
  {
   "cell_type": "code",
   "execution_count": null,
   "metadata": {},
   "outputs": [],
   "source": [
    "event = event_start[1:3]\n",
    "gap = fs * chirp_duration + 2 *CP_LENGTH + 2 * repeat_time * DFT_LENGTH + 128 * (CP_LENGTH + DFT_LENGTH)\n",
    "print(event[1]-event[0]-gap) #376704 for 64 symbols\n",
    "event = event -10"
   ]
  },
  {
   "cell_type": "code",
   "execution_count": null,
   "metadata": {},
   "outputs": [],
   "source": [
    "#estimate with known ofdm\n",
    "known_ofdm_start = int(event[0] + fs*(chirp_duration)) #need to change accordingly\n",
    "known_ofdm_end = known_ofdm_start + known_ofdm_data.size\n",
    "received_known = received_signal[known_ofdm_start:known_ofdm_end]  #received ofdm part\n",
    "\n",
    "#remove the first cyclic prefix manually then find discarded\n",
    "received_known = received_known[CP_LENGTH:]\n",
    "#fft_known = ofdm.ofdm_to_fourier(received_known[:], DFT_LENGTH, cp_length=0) \n",
    "#discarded_known = ofdm.subcarrier_extract(fft_known, DFT_LENGTH, fs, low_freq, high_freq)\n",
    "\n",
    "#estimate\n",
    "# H_known_ofdm = ofdm.known_ofdm_estimate(discarded_known,repeat_time,known_ofdm_data[CP_LENGTH:],DFT_LENGTH,low_freq,high_freq,fs)\n",
    "H_known_ofdm = ofdm.known_ofdm_estimate_edited(received_known,known_ofdm_data[CP_LENGTH:CP_LENGTH+DFT_LENGTH],DFT_LENGTH,CP_LENGTH,low_freq,high_freq,fs)\n",
    "plt.plot(np.abs(H_known_ofdm))\n",
    "plt.show()\n",
    "plt.plot(np.angle(H_known_ofdm))\n",
    "plt.show()"
   ]
  },
  {
   "cell_type": "code",
   "execution_count": null,
   "metadata": {},
   "outputs": [],
   "source": [
    "#used for ofdm after a chirp only\n",
    "ofdm_start = int(known_ofdm_end)\n",
    "#end = received_signal.size      #end of the possible range with a signal\n",
    "#correction = (end-ofdm_start)%(DFT_LENGTH+CP_LENGTH)\n",
    "#ofdm_end = end - correction\n",
    "ofdm_end = ofdm_start+symbol_per_frame*(DFT_LENGTH+CP_LENGTH)       #hard coded, need to check\n",
    "received_ofdm =received_signal[ofdm_start:ofdm_end]  #received ofdm information\n",
    "fft = ofdm.ofdm_to_fourier(received_ofdm, DFT_LENGTH, CP_LENGTH)\n",
    "discarded = ofdm.subcarrier_extract(fft, DFT_LENGTH, fs, low_freq, high_freq)\n",
    "deconvolved = ofdm.deconvolve(discarded, H_known_ofdm, DFT_LENGTH, fs, low_freq, high_freq,True)"
   ]
  },
  {
   "cell_type": "code",
   "execution_count": null,
   "metadata": {},
   "outputs": [],
   "source": [
    "# phase correction\n",
    "sample_diff = event[1]-event[0]-gap\n",
    "sample_corrected = correction.phase_correction(deconvolved, sample_diff, DFT_LENGTH, CP_LENGTH, fs, low_freq, high_freq, chirp_duration)"
   ]
  },
  {
   "cell_type": "code",
   "execution_count": null,
   "metadata": {},
   "outputs": [],
   "source": [
    "#plot the phase difference between the two channel estimation done with known ofdm symbols\n",
    "phase_diff,H1,H2 = correction.phase_difference(received_signal, event,known_ofdm_data,CP_LENGTH,DFT_LENGTH,fs,low_freq,high_freq,repeat_time)"
   ]
  },
  {
   "cell_type": "code",
   "execution_count": null,
   "metadata": {},
   "outputs": [],
   "source": [
    "#find regression of the phase diff plot by looking at a selected linear range\n",
    "#iterate until satisfied with range for regression\n",
    "\n",
    "from IPython.display import clear_output\n",
    "reply = \"n\"\n",
    "while reply != \"y\":\n",
    "    regression_range_1 = np.array(input(\"range to perform regression: \").split()).astype(int)\n",
    "    clear_output()\n",
    "    start1,end1 = regression_range_1\n",
    "    if end1 > phase_diff.size:\n",
    "        end1 = phase_diff.size\n",
    "    plt.plot(phase_diff[start1:end1])\n",
    "    section1 = phase_diff[start1:end1]\n",
    "    x_1 = np.linspace(0,end1,num=(end1-start1))\n",
    "    slope1, intercept1, r_value, p_value, std_err = scipy.stats.linregress(x_1, section1)\n",
    "    plt.plot(x_1*slope1+intercept1)\n",
    "    print(slope1,intercept1)\n",
    "    plt.title(\"1st regression\")\n",
    "    plt.show()\n",
    "    reply = input(\"confirm range? y/n\")\n",
    "\n",
    "clear_output()\n",
    "regression_corrected = correction.regression_correction(spb,slope1,intercept1,H1,H2,sample_corrected,symbol_per_frame)\n",
    "\n"
   ]
  },
  {
   "cell_type": "code",
   "execution_count": null,
   "metadata": {},
   "outputs": [],
   "source": [
    "#check accuracy\n",
    "new = True\n",
    "if new:\n",
    "    np.random.seed(8)\n",
    "    encoded = np.random.randint(2, size=2*128*spb)\n",
    "    np.savetxt('encoded', encoded, fmt='%i')\n"
   ]
  },
  {
   "cell_type": "code",
   "execution_count": null,
   "metadata": {},
   "outputs": [],
   "source": [
    "corrected = regression_corrected\n",
    "\n",
    "phase_plot_range = 3000\n",
    "plt.scatter(np.real(corrected[:phase_plot_range]),np.imag(corrected[:phase_plot_range])) #plot the received phase distribution\n",
    "print(corrected.size)"
   ]
  },
  {
   "cell_type": "code",
   "execution_count": null,
   "metadata": {},
   "outputs": [],
   "source": [
    "decoded = decode.qpsk_decode(corrected)\n",
    "\n",
    "print(encoded.size, decoded.size)\n",
    "print(\"source:\\n\", encoded[:30])\n",
    "print(\"decoded:\\n\", decoded[:30])"
   ]
  },
  {
   "cell_type": "code",
   "execution_count": null,
   "metadata": {},
   "outputs": [],
   "source": [
    "equality = encoded == decoded[:encoded.size]\n",
    "equality = equality[:]\n",
    "print(\"correct rate:\\n\", np.sum(equality.astype(int))/equality.size)"
   ]
  },
  {
   "cell_type": "code",
   "execution_count": null,
   "metadata": {},
   "outputs": [],
   "source": [
    "#error of each symbol\n",
    "e_symbol = [0]*symbol_per_frame\n",
    "for n in range(symbol_per_frame):\n",
    "    n=int(n)\n",
    "    a = equality[2*spb*n:2*spb*(n+1)]\n",
    "    e_symbol[n] = np.round(np.sum(a.astype(int))/a.size,4)\n",
    "plt.plot(e_symbol)"
   ]
  },
  {
   "cell_type": "code",
   "execution_count": null,
   "metadata": {},
   "outputs": [],
   "source": [
    "print(e_symbol[0])"
   ]
  }
 ],
 "metadata": {
  "interpreter": {
   "hash": "63526c8586451ba8c2a2081f8ca815665976542e57074ee3e4dd6a58550a8b5d"
  },
  "kernelspec": {
   "display_name": "Python 3.10.4 ('GF3')",
   "language": "python",
   "name": "python3"
  },
  "language_info": {
   "codemirror_mode": {
    "name": "ipython",
    "version": 3
   },
   "file_extension": ".py",
   "mimetype": "text/x-python",
   "name": "python",
   "nbconvert_exporter": "python",
   "pygments_lexer": "ipython3",
   "version": "3.10.4"
  },
  "orig_nbformat": 4
 },
 "nbformat": 4,
 "nbformat_minor": 2
}
